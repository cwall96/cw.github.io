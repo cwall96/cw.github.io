{
 "cells": [
  {
   "cell_type": "markdown",
   "id": "3dbe1594",
   "metadata": {},
   "source": [
    "(python_done_right)=\n",
    "\n",
    "# Python Essentials\n",
    "\n",
    "## Overview\n",
    "\n",
    "We have covered a lot of material quite quickly, with a focus on\n",
    "examples.\n",
    "\n",
    "Now let\\'s cover some core features of Python in a more systematic way.\n",
    "\n",
    "This approach is less exciting but helps clear up some details.\n",
    "\n",
    "## Data Types\n",
    "\n",
    "Computer programs typically keep track of a range of data types.\n",
    "\n",
    "For example, `1.5` is a floating point number, while `1` is an integer.\n",
    "\n",
    "Programs need to distinguish between these two types for various\n",
    "reasons.\n",
    "\n",
    "One is that they are stored in memory differently.\n",
    "\n",
    "Another is that arithmetic operations are different\n",
    "\n",
    "-   For example, floating point arithmetic is implemented on most\n",
    "    machines by a specialized Floating Point Unit (FPU).\n",
    "\n",
    "In general, floats are more informative but arithmetic operations on\n",
    "integers are faster and more accurate.\n",
    "\n",
    "Python provides numerous other built-in Python data types, some of which\n",
    "we\\'ve already met\n",
    "\n",
    "-   strings, lists, etc.\n",
    "\n",
    "Let\\'s learn a bit more about them.\n",
    "\n",
    "### Primitive Data Types\n",
    "\n",
    "One simple data type is **Boolean values**, which can be either `True`\n",
    "or `False`"
   ]
  },
  {
   "cell_type": "code",
   "execution_count": null,
   "id": "456d1dec",
   "metadata": {},
   "outputs": [],
   "source": [
    "x = True\n",
    "x"
   ]
  },
  {
   "cell_type": "markdown",
   "id": "87fd3538",
   "metadata": {},
   "source": [
    "We can check the type of any object in memory using the `type()`\n",
    "function."
   ]
  },
  {
   "cell_type": "code",
   "execution_count": null,
   "id": "1be03954",
   "metadata": {},
   "outputs": [],
   "source": [
    "type(x)"
   ]
  },
  {
   "cell_type": "markdown",
   "id": "0d50cedd",
   "metadata": {},
   "source": [
    "In the next line of code, the interpreter evaluates the expression on\n",
    "the right of `=` and binds `y` to this value"
   ]
  },
  {
   "cell_type": "code",
   "execution_count": null,
   "id": "d9dd3d61",
   "metadata": {},
   "outputs": [],
   "source": [
    "y = 100 < 10\n",
    "y"
   ]
  },
  {
   "cell_type": "code",
   "execution_count": null,
   "id": "8a03d769",
   "metadata": {},
   "outputs": [],
   "source": [
    "type(y)"
   ]
  },
  {
   "cell_type": "markdown",
   "id": "584faf2c",
   "metadata": {},
   "source": [
    "In arithmetic expressions, `True` is converted to `1` and `False` is\n",
    "converted `0`.\n",
    "\n",
    "This is called **Boolean arithmetic** and is often useful in\n",
    "programming.\n",
    "\n",
    "Here are some examples"
   ]
  },
  {
   "cell_type": "code",
   "execution_count": null,
   "id": "f013b904",
   "metadata": {},
   "outputs": [],
   "source": [
    "x + y"
   ]
  },
  {
   "cell_type": "code",
   "execution_count": null,
   "id": "0bb4a36c",
   "metadata": {},
   "outputs": [],
   "source": [
    "x * y"
   ]
  },
  {
   "cell_type": "code",
   "execution_count": null,
   "id": "f65fc30f",
   "metadata": {},
   "outputs": [],
   "source": [
    "True + True"
   ]
  },
  {
   "cell_type": "code",
   "execution_count": null,
   "id": "5b1ca071",
   "metadata": {},
   "outputs": [],
   "source": [
    "bools = [True, True, False, True]  # List of Boolean values\n",
    "\n",
    "sum(bools)"
   ]
  },
  {
   "cell_type": "markdown",
   "id": "4c56cb70",
   "metadata": {},
   "source": [
    "Complex numbers are another primitive data type in Python"
   ]
  },
  {
   "cell_type": "code",
   "execution_count": null,
   "id": "2915113a",
   "metadata": {},
   "outputs": [],
   "source": [
    "x = complex(1, 2)\n",
    "y = complex(2, 1)\n",
    "print(x * y)\n",
    "\n",
    "type(x)"
   ]
  },
  {
   "cell_type": "markdown",
   "id": "59ec2b86",
   "metadata": {},
   "source": [
    "### Containers\n",
    "\n",
    "Python has several basic types for storing collections of (possibly\n",
    "heterogeneous) data.\n",
    "\n",
    "We\\'ve {ref}`already discussed lists <lists_ref>`.\n",
    "\n",
    "A related data type is **tuples**, which are \\\"immutable\\\" lists"
   ]
  },
  {
   "cell_type": "code",
   "execution_count": null,
   "id": "45b9e31d",
   "metadata": {},
   "outputs": [],
   "source": [
    "x = ('a', 'b')  # Parentheses instead of the square brackets\n",
    "x = 'a', 'b'    # Or no brackets --- the meaning is identical\n",
    "x"
   ]
  },
  {
   "cell_type": "code",
   "execution_count": null,
   "id": "cd7cbfe8",
   "metadata": {},
   "outputs": [],
   "source": [
    "type(x)"
   ]
  },
  {
   "cell_type": "markdown",
   "id": "24afda0a",
   "metadata": {},
   "source": [
    "In Python, an object is called **immutable** if, once created, the\n",
    "object cannot be changed.\n",
    "\n",
    "Conversely, an object is **mutable** if it can still be altered after\n",
    "creation.\n",
    "\n",
    "Python lists are mutable"
   ]
  },
  {
   "cell_type": "code",
   "execution_count": null,
   "id": "fd5c489f",
   "metadata": {},
   "outputs": [],
   "source": [
    "x = [1, 2]\n",
    "x[0] = 10\n",
    "x"
   ]
  },
  {
   "cell_type": "markdown",
   "id": "bbd05210",
   "metadata": {},
   "source": [
    "But tuples are not"
   ]
  },
  {
   "cell_type": "code",
   "execution_count": null,
   "id": "3cbd6e77",
   "metadata": {
    "tags": [
     "raises-exception"
    ]
   },
   "outputs": [],
   "source": [
    "x = (1, 2)\n",
    "x[0] = 10"
   ]
  },
  {
   "cell_type": "markdown",
   "id": "2f8b1953",
   "metadata": {},
   "source": [
    "We\\'ll say more about the role of mutable and immutable data a bit\n",
    "later.\n",
    "\n",
    "Tuples (and lists) can be \\\"unpacked\\\" as follows"
   ]
  },
  {
   "cell_type": "code",
   "execution_count": null,
   "id": "8d0c1925",
   "metadata": {},
   "outputs": [],
   "source": [
    "integers = (10, 20, 30)\n",
    "x, y, z = integers\n",
    "x"
   ]
  },
  {
   "cell_type": "code",
   "execution_count": null,
   "id": "8fc64bd8",
   "metadata": {},
   "outputs": [],
   "source": [
    "y"
   ]
  },
  {
   "cell_type": "markdown",
   "id": "d95c1041",
   "metadata": {},
   "source": [
    "You\\'ve actually\n",
    "{ref}`seen an example of this <tuple_unpacking_example>` already.\n",
    "\n",
    "Tuple unpacking is convenient and we\\'ll use it often.\n",
    "\n",
    "#### Slice Notation\n",
    "\n",
    "To access multiple elements of a list or tuple, you can use Python\\'s\n",
    "slice notation.\n",
    "\n",
    "For example,"
   ]
  },
  {
   "cell_type": "code",
   "execution_count": null,
   "id": "258e5347",
   "metadata": {},
   "outputs": [],
   "source": [
    "a = [2, 4, 6, 8]\n",
    "a[1:]"
   ]
  },
  {
   "cell_type": "code",
   "execution_count": null,
   "id": "a6660242",
   "metadata": {},
   "outputs": [],
   "source": [
    "a[1:3]"
   ]
  },
  {
   "cell_type": "markdown",
   "id": "ed90cf83",
   "metadata": {},
   "source": [
    "The general rule is that `a[m:n]` returns `n - m` elements, starting at\n",
    "`a[m]`.\n",
    "\n",
    "Negative numbers are also permissible"
   ]
  },
  {
   "cell_type": "code",
   "execution_count": null,
   "id": "7653dbd7",
   "metadata": {},
   "outputs": [],
   "source": [
    "a[-2:]  # Last two elements of the list"
   ]
  },
  {
   "cell_type": "markdown",
   "id": "69f00c74",
   "metadata": {},
   "source": [
    "The same slice notation works on tuples and strings"
   ]
  },
  {
   "cell_type": "code",
   "execution_count": null,
   "id": "defe266a",
   "metadata": {},
   "outputs": [],
   "source": [
    "s = 'foobar'\n",
    "s[-3:]  # Select the last three elements"
   ]
  },
  {
   "cell_type": "markdown",
   "id": "13641a6d",
   "metadata": {},
   "source": [
    "#### Sets and Dictionaries\n",
    "\n",
    "Two other container types we should mention before moving on are\n",
    "[sets](https://docs.python.org/3/tutorial/datastructures.html#sets) and\n",
    "[dictionaries](https://docs.python.org/3/tutorial/datastructures.html#dictionaries).\n",
    "\n",
    "Dictionaries are much like lists, except that the items are named\n",
    "instead of numbered"
   ]
  },
  {
   "cell_type": "code",
   "execution_count": null,
   "id": "9dfbc711",
   "metadata": {},
   "outputs": [],
   "source": [
    "d = {'name': 'Frodo', 'age': 33}\n",
    "type(d)"
   ]
  },
  {
   "cell_type": "code",
   "execution_count": null,
   "id": "bcc55630",
   "metadata": {},
   "outputs": [],
   "source": [
    "d['age']"
   ]
  },
  {
   "cell_type": "markdown",
   "id": "f889a38e",
   "metadata": {},
   "source": [
    "The names `'name'` and `'age'` are called the *keys*.\n",
    "\n",
    "The objects that the keys are mapped to (`'Frodo'` and `33`) are called\n",
    "the `values`.\n",
    "\n",
    "Sets are unordered collections without duplicates, and set methods\n",
    "provide the usual set-theoretic operations"
   ]
  },
  {
   "cell_type": "code",
   "execution_count": null,
   "id": "03004431",
   "metadata": {},
   "outputs": [],
   "source": [
    "s1 = {'a', 'b'}\n",
    "type(s1)"
   ]
  },
  {
   "cell_type": "code",
   "execution_count": null,
   "id": "dd2b1214",
   "metadata": {},
   "outputs": [],
   "source": [
    "s2 = {'b', 'c'}\n",
    "s1.issubset(s2)"
   ]
  },
  {
   "cell_type": "code",
   "execution_count": null,
   "id": "28b2b6dd",
   "metadata": {},
   "outputs": [],
   "source": [
    "s1.intersection(s2)"
   ]
  },
  {
   "cell_type": "markdown",
   "id": "0db3167c",
   "metadata": {},
   "source": [
    "The `set()` function creates sets from sequences"
   ]
  },
  {
   "cell_type": "code",
   "execution_count": null,
   "id": "ca8e1309",
   "metadata": {},
   "outputs": [],
   "source": [
    "s3 = set(('foo', 'bar', 'foo'))\n",
    "s3"
   ]
  },
  {
   "cell_type": "markdown",
   "id": "d6528531",
   "metadata": {},
   "source": [
    "## Input and Output\n",
    "\n",
    "Let\\'s briefly review reading and writing to text files, starting with\n",
    "writing"
   ]
  },
  {
   "cell_type": "code",
   "execution_count": null,
   "id": "0db56062",
   "metadata": {},
   "outputs": [],
   "source": [
    "f = open('newfile.txt', 'w')   # Open 'newfile.txt' for writing\n",
    "f.write('Testing\\n')           # Here '\\n' means new line\n",
    "f.write('Testing again')\n",
    "f.close()"
   ]
  },
  {
   "cell_type": "markdown",
   "id": "f77791cc",
   "metadata": {},
   "source": [
    "Here\n",
    "\n",
    "-   The built-in function `open()` creates a file object for writing to.\n",
    "-   Both `write()` and `close()` are methods of file objects.\n",
    "\n",
    "Where is this file that we\\'ve created?\n",
    "\n",
    "Recall that Python maintains a concept of the present working directory\n",
    "(pwd) that can be located from with Jupyter or IPython via"
   ]
  },
  {
   "cell_type": "code",
   "execution_count": null,
   "id": "8b884acc",
   "metadata": {},
   "outputs": [],
   "source": [
    "%pwd"
   ]
  },
  {
   "cell_type": "markdown",
   "id": "f289c3bb",
   "metadata": {},
   "source": [
    "If a path is not specified, then this is where Python writes to.\n",
    "\n",
    "We can also use Python to read the contents of `newline.txt` as follows"
   ]
  },
  {
   "cell_type": "code",
   "execution_count": null,
   "id": "cf77b9b5",
   "metadata": {},
   "outputs": [],
   "source": [
    "f = open('newfile.txt', 'r')\n",
    "out = f.read()\n",
    "out"
   ]
  },
  {
   "cell_type": "code",
   "execution_count": null,
   "id": "fa094637",
   "metadata": {},
   "outputs": [],
   "source": [
    "print(out)"
   ]
  },
  {
   "cell_type": "markdown",
   "id": "60336910",
   "metadata": {},
   "source": [
    "### Paths\n",
    "\n",
    "Note that if `newfile.txt` is not in the present working directory then\n",
    "this call to `open()` fails.\n",
    "\n",
    "In this case, you can shift the file to the pwd or specify the [full\n",
    "path](https://en.wikipedia.org/wiki/Path_%28computing%29) to the file\n",
    "\n",
    "```python\n",
    "f = open('insert_full_path_to_file/newfile.txt', 'r')\n",
    "```\n",
    "\n",
    "(iterating_version_1)=\n",
    "\n",
    "## Iterating\n",
    "\n",
    "One of the most important tasks in computing is stepping through a\n",
    "sequence of data and performing a given action.\n",
    "\n",
    "One of Python\\'s strengths is its simple, flexible interface to this\n",
    "kind of iteration via the `for` loop.\n",
    "\n",
    "### Looping over Different Objects\n",
    "\n",
    "Many Python objects are \\\"iterable\\\", in the sense that they can be\n",
    "looped over.\n",
    "\n",
    "To give an example, let\\'s write the file `us_cities.txt`,\n",
    "which lists US cities and their population, to the present working\n",
    "directory.\n",
    "\n",
    "(us_cities_data)="
   ]
  },
  {
   "cell_type": "code",
   "execution_count": null,
   "id": "e75ae2b0",
   "metadata": {},
   "outputs": [],
   "source": [
    "%%file us_cities.txt\n",
    "new york: 8244910\n",
    "los angeles: 3819702\n",
    "chicago: 2707120\n",
    "houston: 2145146\n",
    "philadelphia: 1536471\n",
    "phoenix: 1469471\n",
    "san antonio: 1359758\n",
    "san diego: 1326179\n",
    "dallas: 1223229"
   ]
  },
  {
   "cell_type": "markdown",
   "id": "70909b02",
   "metadata": {},
   "source": [
    "Here `%%file` is an [IPython cell magic](https://ipython.readthedocs.io/en/stable/interactive/magics.html#cell-magics).\n",
    "\n",
    "Suppose that we want to make the information more readable, by\n",
    "capitalizing names and adding commas to mark thousands.\n",
    "\n",
    "The program below reads the data in and makes the conversion:"
   ]
  },
  {
   "cell_type": "code",
   "execution_count": null,
   "id": "f48b6ab8",
   "metadata": {},
   "outputs": [],
   "source": [
    "data_file = open('us_cities.txt', 'r')\n",
    "for line in data_file:\n",
    "    city, population = line.split(':')         # Tuple unpacking\n",
    "    city = city.title()                        # Capitalize city names\n",
    "    population = f'{int(population):,}'        # Add commas to numbers\n",
    "    print(city.ljust(15) + population)\n",
    "data_file.close()"
   ]
  },
  {
   "cell_type": "markdown",
   "id": "ec6a43b6",
   "metadata": {},
   "source": [
    "Here `format()` is a string method [used for inserting variables into\n",
    "strings](https://docs.python.org/3/library/string.html#formatspec).\n",
    "\n",
    "The reformatting of each line is the result of three different string\n",
    "methods, the details of which can be left till later.\n",
    "\n",
    "The interesting part of this program for us is line 2, which shows that\n",
    "\n",
    "1.  The file object `data_file` is iterable, in the sense that it can be\n",
    "    placed to the right of `in` within a `for` loop.\n",
    "2.  Iteration steps through each line in the file.\n",
    "\n",
    "This leads to the clean, convenient syntax shown in our program.\n",
    "\n",
    "Many other kinds of objects are iterable, and we\\'ll discuss some of\n",
    "them later on.\n",
    "\n",
    "### Looping without Indices\n",
    "\n",
    "One thing you might have noticed is that Python tends to favor looping\n",
    "without explicit indexing.\n",
    "\n",
    "For example,"
   ]
  },
  {
   "cell_type": "code",
   "execution_count": null,
   "id": "c90932c2",
   "metadata": {},
   "outputs": [],
   "source": [
    "x_values = [1, 2, 3]  # Some iterable x\n",
    "for x in x_values:\n",
    "    print(x * x)"
   ]
  },
  {
   "cell_type": "markdown",
   "id": "e02b5e26",
   "metadata": {},
   "source": [
    "is preferred to"
   ]
  },
  {
   "cell_type": "code",
   "execution_count": null,
   "id": "4264da46",
   "metadata": {},
   "outputs": [],
   "source": [
    "for i in range(len(x_values)):\n",
    "    print(x_values[i] * x_values[i])"
   ]
  },
  {
   "cell_type": "markdown",
   "id": "7a67915b",
   "metadata": {},
   "source": [
    "When you compare these two alternatives, you can see why the first one\n",
    "is preferred.\n",
    "\n",
    "Python provides some facilities to simplify looping without indices.\n",
    "\n",
    "One is `zip()`, which is used for stepping through pairs from two\n",
    "sequences.\n",
    "\n",
    "For example, try running the following code"
   ]
  },
  {
   "cell_type": "code",
   "execution_count": null,
   "id": "391e447c",
   "metadata": {},
   "outputs": [],
   "source": [
    "countries = ('Japan', 'Korea', 'China')\n",
    "cities = ('Tokyo', 'Seoul', 'Beijing')\n",
    "for country, city in zip(countries, cities):\n",
    "    print(f'The capital of {country} is {city}')"
   ]
  },
  {
   "cell_type": "markdown",
   "id": "ecd3d0cf",
   "metadata": {},
   "source": [
    "The `zip()` function is also useful for creating dictionaries --- for\n",
    "example"
   ]
  },
  {
   "cell_type": "code",
   "execution_count": null,
   "id": "58f8332b",
   "metadata": {},
   "outputs": [],
   "source": [
    "names = ['Tom', 'John']\n",
    "marks = ['E', 'F']\n",
    "dict(zip(names, marks))"
   ]
  },
  {
   "cell_type": "markdown",
   "id": "91b44eb0",
   "metadata": {},
   "source": [
    "If we actually need the index from a list, one option is to use\n",
    "`enumerate()`.\n",
    "\n",
    "To understand what `enumerate()` does, consider the following example"
   ]
  },
  {
   "cell_type": "code",
   "execution_count": null,
   "id": "b93653a5",
   "metadata": {},
   "outputs": [],
   "source": [
    "letter_list = ['a', 'b', 'c']\n",
    "for index, letter in enumerate(letter_list):\n",
    "    print(f\"letter_list[{index}] = '{letter}'\")"
   ]
  },
  {
   "cell_type": "markdown",
   "id": "9a36dd0d",
   "metadata": {},
   "source": [
    "### List Comprehensions\n",
    "\n",
    "We can also simplify the code for generating the list of random draws\n",
    "considerably by using something called a *list comprehension*.\n",
    "\n",
    "[List comprehensions](https://en.wikipedia.org/wiki/List_comprehension)\n",
    "are an elegant Python tool for creating lists.\n",
    "\n",
    "Consider the following example, where the list comprehension is on the\n",
    "right-hand side of the second line"
   ]
  },
  {
   "cell_type": "code",
   "execution_count": null,
   "id": "36f03e3a",
   "metadata": {},
   "outputs": [],
   "source": [
    "animals = ['dog', 'cat', 'bird']\n",
    "plurals = [animal + 's' for animal in animals]\n",
    "plurals"
   ]
  },
  {
   "cell_type": "markdown",
   "id": "e190a818",
   "metadata": {},
   "source": [
    "Here\\'s another example"
   ]
  },
  {
   "cell_type": "code",
   "execution_count": null,
   "id": "5c01be3f",
   "metadata": {},
   "outputs": [],
   "source": [
    "range(8)"
   ]
  },
  {
   "cell_type": "code",
   "execution_count": null,
   "id": "d8cd4cdc",
   "metadata": {},
   "outputs": [],
   "source": [
    "doubles = [2 * x for x in range(8)]\n",
    "doubles"
   ]
  },
  {
   "cell_type": "markdown",
   "id": "32c16951",
   "metadata": {},
   "source": [
    "## Comparisons and Logical Operators\n",
    "\n",
    "### Comparisons\n",
    "\n",
    "Many different kinds of expressions evaluate to one of the Boolean\n",
    "values (i.e., `True` or `False`).\n",
    "\n",
    "A common type is comparisons, such as"
   ]
  },
  {
   "cell_type": "code",
   "execution_count": null,
   "id": "38027388",
   "metadata": {},
   "outputs": [],
   "source": [
    "x, y = 1, 2\n",
    "x < y"
   ]
  },
  {
   "cell_type": "code",
   "execution_count": null,
   "id": "49464250",
   "metadata": {},
   "outputs": [],
   "source": [
    "x > y"
   ]
  },
  {
   "cell_type": "markdown",
   "id": "28e6cd44",
   "metadata": {},
   "source": [
    "One of the nice features of Python is that we can *chain* inequalities"
   ]
  },
  {
   "cell_type": "code",
   "execution_count": null,
   "id": "a146681b",
   "metadata": {},
   "outputs": [],
   "source": [
    "1 < 2 < 3"
   ]
  },
  {
   "cell_type": "code",
   "execution_count": null,
   "id": "ecc294b5",
   "metadata": {},
   "outputs": [],
   "source": [
    "1 <= 2 <= 3"
   ]
  },
  {
   "cell_type": "markdown",
   "id": "c313e215",
   "metadata": {},
   "source": [
    "As we saw earlier, when testing for equality we use `==`"
   ]
  },
  {
   "cell_type": "code",
   "execution_count": null,
   "id": "a071c220",
   "metadata": {},
   "outputs": [],
   "source": [
    "x = 1    # Assignment\n",
    "x == 2   # Comparison"
   ]
  },
  {
   "cell_type": "markdown",
   "id": "3653e25e",
   "metadata": {},
   "source": [
    "For \\\"not equal\\\" use `!=`"
   ]
  },
  {
   "cell_type": "code",
   "execution_count": null,
   "id": "657e44a1",
   "metadata": {},
   "outputs": [],
   "source": [
    "1 != 2"
   ]
  },
  {
   "cell_type": "markdown",
   "id": "a7ea0d0b",
   "metadata": {},
   "source": [
    "Note that when testing conditions, we can use **any** valid Python\n",
    "expression"
   ]
  },
  {
   "cell_type": "code",
   "execution_count": null,
   "id": "6f04aa0e",
   "metadata": {},
   "outputs": [],
   "source": [
    "x = 'yes' if 42 else 'no'\n",
    "x"
   ]
  },
  {
   "cell_type": "code",
   "execution_count": null,
   "id": "dbd4a836",
   "metadata": {},
   "outputs": [],
   "source": [
    "x = 'yes' if [] else 'no'\n",
    "x"
   ]
  },
  {
   "cell_type": "markdown",
   "id": "72520778",
   "metadata": {},
   "source": [
    "What\\'s going on here?\n",
    "\n",
    "The rule is:\n",
    "\n",
    "-   Expressions that evaluate to zero, empty sequences or containers\n",
    "    (strings, lists, etc.) and `None` are all equivalent to `False`.\n",
    "    -   for example, `[]` and `()` are equivalent to `False` in an `if` clause\n",
    "-   All other values are equivalent to `True`.\n",
    "    -   for example, `42` is equivalent to `True` in an `if` clause\n",
    "\n",
    "### Combining Expressions\n",
    "\n",
    "We can combine expressions using `and`, `or` and `not`.\n",
    "\n",
    "These are the standard logical connectives (conjunction, disjunction and\n",
    "denial)"
   ]
  },
  {
   "cell_type": "code",
   "execution_count": null,
   "id": "3f57e5ec",
   "metadata": {},
   "outputs": [],
   "source": [
    "1 < 2 and 'f' in 'foo'"
   ]
  },
  {
   "cell_type": "code",
   "execution_count": null,
   "id": "a1341b37",
   "metadata": {},
   "outputs": [],
   "source": [
    "1 < 2 and 'g' in 'foo'"
   ]
  },
  {
   "cell_type": "code",
   "execution_count": null,
   "id": "5ad7e845",
   "metadata": {},
   "outputs": [],
   "source": [
    "1 < 2 or 'g' in 'foo'"
   ]
  },
  {
   "cell_type": "code",
   "execution_count": null,
   "id": "02a8deff",
   "metadata": {},
   "outputs": [],
   "source": [
    "not True"
   ]
  },
  {
   "cell_type": "code",
   "execution_count": null,
   "id": "44c4d1ed",
   "metadata": {},
   "outputs": [],
   "source": [
    "not not True"
   ]
  },
  {
   "cell_type": "markdown",
   "id": "f2ff8d7d",
   "metadata": {},
   "source": [
    "Remember\n",
    "\n",
    "-   `P and Q` is `True` if both are `True`, else `False`\n",
    "-   `P or Q` is `False` if both are `False`, else `True`\n",
    "\n",
    "## More Functions\n",
    "\n",
    "Let\\'s talk a bit more about functions, which are all important for good\n",
    "programming style.\n",
    "\n",
    "### The Flexibility of Python Functions\n",
    "\n",
    "As we discussed in the\n",
    "{ref}`previous lecture <python_by_example>`,\n",
    "Python functions are very flexible.\n",
    "\n",
    "In particular\n",
    "\n",
    "-   Any number of functions can be defined in a given file.\n",
    "-   Functions can be (and often are) defined inside other functions.\n",
    "-   Any object can be passed to a function as an argument, including\n",
    "    other functions.\n",
    "-   A function can return any kind of object, including functions.\n",
    "\n",
    "We already {ref}`gave an example <test_program_6>` of how straightforward it is to pass a function to a\n",
    "function.\n",
    "\n",
    "Note that a function can have arbitrarily many `return` statements\n",
    "(including zero).\n",
    "\n",
    "Execution of the function terminates when the first return is hit,\n",
    "allowing code like the following example"
   ]
  },
  {
   "cell_type": "code",
   "execution_count": null,
   "id": "78453015",
   "metadata": {},
   "outputs": [],
   "source": [
    "def f(x):\n",
    "    if x < 0:\n",
    "        return 'negative'\n",
    "    return 'nonnegative'"
   ]
  },
  {
   "cell_type": "markdown",
   "id": "b167c55b",
   "metadata": {},
   "source": [
    "Functions without a return statement automatically return the special\n",
    "Python object `None`.\n",
    "\n",
    "### Docstrings\n",
    "\n",
    "Python has a system for adding comments to functions, modules, etc.\n",
    "called *docstrings*.\n",
    "\n",
    "The nice thing about docstrings is that they are available at run-time.\n",
    "\n",
    "Try running this"
   ]
  },
  {
   "cell_type": "code",
   "execution_count": null,
   "id": "f772a910",
   "metadata": {},
   "outputs": [],
   "source": [
    "def f(x):\n",
    "    \"\"\"\n",
    "    This function squares its argument\n",
    "    \"\"\"\n",
    "    return x**2"
   ]
  },
  {
   "cell_type": "markdown",
   "id": "0e2fdd07",
   "metadata": {},
   "source": [
    "After running this code, the docstring is available\n",
    "\n",
    "```{code-block} none\n",
    "f?\n",
    "```\n",
    "\n",
    "```{code-block} none\n",
    "Type:       function\n",
    "String Form:<function f at 0x2223320>\n",
    "File:       /home/john/temp/temp.py\n",
    "Definition: f(x)\n",
    "Docstring:  This function squares its argument\n",
    "```\n",
    "\n",
    "```{code-block} none\n",
    "f??\n",
    "```\n",
    "\n",
    "```{code-block} none\n",
    "Type:       function\n",
    "String Form:<function f at 0x2223320>\n",
    "File:       /home/john/temp/temp.py\n",
    "Definition: f(x)\n",
    "Source:\n",
    "def f(x):\n",
    "    \"\"\"\n",
    "    This function squares its argument\n",
    "    \"\"\"\n",
    "    return x**2\n",
    "```\n",
    "\n",
    "With one question mark we bring up the docstring, and with two we get\n",
    "the source code as well.\n",
    "\n",
    "### One-Line Functions: `lambda`\n",
    "\n",
    "The `lambda` keyword is used to create simple functions on one line.\n",
    "\n",
    "For example, the definitions"
   ]
  },
  {
   "cell_type": "code",
   "execution_count": null,
   "id": "526650a3",
   "metadata": {},
   "outputs": [],
   "source": [
    "def f(x):\n",
    "    return x**3"
   ]
  },
  {
   "cell_type": "markdown",
   "id": "0c4f37b9",
   "metadata": {},
   "source": [
    "and"
   ]
  },
  {
   "cell_type": "code",
   "execution_count": null,
   "id": "235f5a89",
   "metadata": {},
   "outputs": [],
   "source": [
    "f = lambda x: x**3"
   ]
  },
  {
   "cell_type": "markdown",
   "id": "330621aa",
   "metadata": {},
   "source": [
    "are entirely equivalent.\n",
    "\n",
    "To see why `lambda` is useful, suppose that we want to calculate\n",
    "$\\int_0^2 x^3 dx$ (and have forgotten our high-school calculus).\n",
    "\n",
    "The SciPy library has a function called `quad` that will do this\n",
    "calculation for us.\n",
    "\n",
    "The syntax of the `quad` function is `quad(f, a, b)` where `f` is a\n",
    "function and `a` and `b` are numbers.\n",
    "\n",
    "To create the function $f(x) = x^3$ we can use `lambda` as follows"
   ]
  },
  {
   "cell_type": "code",
   "execution_count": null,
   "id": "6b7b3e42",
   "metadata": {},
   "outputs": [],
   "source": [
    "from scipy.integrate import quad\n",
    "\n",
    "quad(lambda x: x**3, 0, 2)"
   ]
  },
  {
   "cell_type": "markdown",
   "id": "6976d9f7",
   "metadata": {},
   "source": [
    "Here the function created by `lambda` is said to be *anonymous* because\n",
    "it was never given a name.\n",
    "\n",
    "### Keyword Arguments\n",
    "\n",
    "In a {ref}`previous lecture <python_by_example>`, you came across the statement\n",
    "\n",
    "```python\n",
    "plt.plot(x, 'b-', label=\"white noise\")\n",
    "```\n",
    "\n",
    "In this call to Matplotlib\\'s `plot` function, notice that the last\n",
    "argument is passed in `name=argument` syntax.\n",
    "\n",
    "This is called a *keyword argument*, with `label` being the keyword.\n",
    "\n",
    "Non-keyword arguments are called *positional arguments*, since their\n",
    "meaning is determined by order\n",
    "\n",
    "-   `plot(x, 'b-', label=\"white noise\")` is different from\n",
    "    `plot('b-', x, label=\"white noise\")`\n",
    "\n",
    "Keyword arguments are particularly useful when a function has a lot of\n",
    "arguments, in which case it\\'s hard to remember the right order.\n",
    "\n",
    "You can adopt keyword arguments in user-defined functions with no\n",
    "difficulty.\n",
    "\n",
    "The next example illustrates the syntax"
   ]
  },
  {
   "cell_type": "code",
   "execution_count": null,
   "id": "ce36a468",
   "metadata": {},
   "outputs": [],
   "source": [
    "def f(x, a=1, b=1):\n",
    "    return a + b * x"
   ]
  },
  {
   "cell_type": "markdown",
   "id": "7b5cd5c1",
   "metadata": {},
   "source": [
    "The keyword argument values we supplied in the definition of `f` become\n",
    "the default values"
   ]
  },
  {
   "cell_type": "code",
   "execution_count": null,
   "id": "2b753aac",
   "metadata": {},
   "outputs": [],
   "source": [
    "f(2)"
   ]
  },
  {
   "cell_type": "markdown",
   "id": "67303035",
   "metadata": {},
   "source": [
    "They can be modified as follows"
   ]
  },
  {
   "cell_type": "code",
   "execution_count": null,
   "id": "05f2005b",
   "metadata": {},
   "outputs": [],
   "source": [
    "f(2, a=4, b=5)"
   ]
  },
  {
   "cell_type": "markdown",
   "id": "6a56b979",
   "metadata": {},
   "source": [
    "## Coding Style and PEP8\n",
    "\n",
    "To learn more about the Python programming philosophy type `import this`\n",
    "at the prompt.\n",
    "\n",
    "Among other things, Python strongly favors consistency in programming\n",
    "style.\n",
    "\n",
    "We\\'ve all heard the saying about consistency and little minds.\n",
    "\n",
    "In programming, as in mathematics, the opposite is true\n",
    "\n",
    "-   A mathematical paper where the symbols $\\cup$ and $\\cap$ were\n",
    "    reversed would be very hard to read, even if the author told you so\n",
    "    on the first page.\n",
    "\n",
    "In Python, the standard style is set out in\n",
    "[PEP8](https://www.python.org/dev/peps/pep-0008/).\n",
    "\n",
    "(Occasionally we\\'ll deviate from PEP8 in these lectures to better match\n",
    "mathematical notation)\n",
    "\n",
    "## Exercises\n",
    "\n",
    "Solve the following exercises.\n",
    "\n",
    "(For some, the built-in function `sum()` comes in handy).\n",
    "\n",
    "(pyess_ex1)=\n",
    "\n",
    "### Exercise 1\n",
    "\n",
    "Part 1: Given two numeric lists or tuples `x_vals` and `y_vals` of equal\n",
    "length, compute their inner product using `zip()`.\n",
    "\n",
    "Part 2: In one line, count the number of even numbers in 0,...,99.\n",
    "\n",
    "-   Hint: `x % 2` returns 0 if `x` is even, 1 otherwise.\n",
    "\n",
    "Part 3: Given `pairs = ((2, 5), (4, 2), (9, 8), (12, 10))`, count the\n",
    "number of pairs `(a, b)` such that both `a` and `b` are even.\n",
    "\n",
    "(pyess_ex2)=\n",
    "\n",
    "### Exercise 2\n",
    "\n",
    "Consider the polynomial\n",
    "\n",
    "```{math}\n",
    "---\n",
    "label: polynom0\n",
    "---\n",
    "\n",
    "p(x)\n",
    "= a_0 + a_1 x + a_2 x^2 + \\cdots a_n x^n\n",
    "= \\sum_{i=0}^n a_i x^i\n",
    "```\n",
    "\n",
    "Write a function `p` such that `p(x, coeff)` that computes the value in\n",
    "{math:numref}`polynom0` given a point `x` and a list of\n",
    "coefficients `coeff`.\n",
    "\n",
    "Try to use `enumerate()` in your loop.\n",
    "\n",
    "(pyess_ex3)=\n",
    "\n",
    "### Exercise 3\n",
    "\n",
    "Write a function that takes a string as an argument and returns the\n",
    "number of capital letters in the string.\n",
    "\n",
    "Hint: `'foo'.upper()` returns `'FOO'`.\n",
    "\n",
    "(pyess_ex4)=\n",
    "\n",
    "### Exercise 4\n",
    "\n",
    "Write a function that takes two sequences `seq_a` and `seq_b` as\n",
    "arguments and returns `True` if every element in `seq_a` is also an\n",
    "element of `seq_b`, else `False`.\n",
    "\n",
    "-   By \\\"sequence\\\" we mean a list, a tuple or a string.\n",
    "-   Do the exercise without using\n",
    "    [sets](https://docs.python.org/3/tutorial/datastructures.html#sets)\n",
    "    and set methods.\n",
    "\n",
    "(pyess_ex5)=\n",
    "\n",
    "### Exercise 5\n",
    "\n",
    "When we cover the numerical libraries, we will see they include many\n",
    "alternatives for interpolation and function approximation.\n",
    "\n",
    "Nevertheless, let\\'s write our own function approximation routine as an\n",
    "exercise.\n",
    "\n",
    "In particular, without using any imports, write a function `linapprox`\n",
    "that takes as arguments\n",
    "\n",
    "-   A function `f` mapping some interval $[a, b]$ into $\\mathbb R$.\n",
    "-   Two scalars `a` and `b` providing the limits of this interval.\n",
    "-   An integer `n` determining the number of grid points.\n",
    "-   A number `x` satisfying `a <= x <= b`.\n",
    "\n",
    "and returns the [piecewise linear\n",
    "interpolation](https://en.wikipedia.org/wiki/Linear_interpolation) of\n",
    "`f` at `x`, based on `n` evenly spaced grid points\n",
    "`a = point[0] < point[1] < ... < point[n-1] = b`.\n",
    "\n",
    "Aim for clarity, not efficiency.\n",
    "\n",
    "### Exercise 6\n",
    "\n",
    "Using list comprehension syntax, we can simplify the loop in the\n",
    "following code."
   ]
  },
  {
   "cell_type": "code",
   "execution_count": null,
   "id": "b677b785",
   "metadata": {},
   "outputs": [],
   "source": [
    "import numpy as np\n",
    "\n",
    "n = 100\n",
    "ϵ_values = []\n",
    "for i in range(n):\n",
    "    e = np.random.randn()\n",
    "    ϵ_values.append(e)"
   ]
  },
  {
   "cell_type": "markdown",
   "id": "d3739026",
   "metadata": {},
   "source": [
    "## Solutions\n",
    "\n",
    "### Exercise 1\n",
    "\n",
    "#### Part 1 Solution:\n",
    "\n",
    "Here\\'s one possible solution"
   ]
  },
  {
   "cell_type": "code",
   "execution_count": null,
   "id": "ed167e1e",
   "metadata": {},
   "outputs": [],
   "source": [
    "x_vals = [1, 2, 3]\n",
    "y_vals = [1, 1, 1]\n",
    "sum([x * y for x, y in zip(x_vals, y_vals)])"
   ]
  },
  {
   "cell_type": "markdown",
   "id": "37eee1ab",
   "metadata": {},
   "source": [
    "This also works"
   ]
  },
  {
   "cell_type": "code",
   "execution_count": null,
   "id": "d763bb09",
   "metadata": {},
   "outputs": [],
   "source": [
    "sum(x * y for x, y in zip(x_vals, y_vals))"
   ]
  },
  {
   "cell_type": "markdown",
   "id": "28fce96e",
   "metadata": {},
   "source": [
    "#### Part 2 Solution:\n",
    "\n",
    "One solution is"
   ]
  },
  {
   "cell_type": "code",
   "execution_count": null,
   "id": "a1b65778",
   "metadata": {},
   "outputs": [],
   "source": [
    "sum([x % 2 == 0 for x in range(100)])"
   ]
  },
  {
   "cell_type": "markdown",
   "id": "d563292b",
   "metadata": {},
   "source": [
    "This also works:"
   ]
  },
  {
   "cell_type": "code",
   "execution_count": null,
   "id": "c75179d8",
   "metadata": {},
   "outputs": [],
   "source": [
    "sum(x % 2 == 0 for x in range(100))"
   ]
  },
  {
   "cell_type": "markdown",
   "id": "e137815b",
   "metadata": {},
   "source": [
    "Some less natural alternatives that nonetheless help to illustrate the\n",
    "flexibility of list comprehensions are"
   ]
  },
  {
   "cell_type": "code",
   "execution_count": null,
   "id": "006c596d",
   "metadata": {},
   "outputs": [],
   "source": [
    "len([x for x in range(100) if x % 2 == 0])"
   ]
  },
  {
   "cell_type": "markdown",
   "id": "2a683c85",
   "metadata": {},
   "source": [
    "and"
   ]
  },
  {
   "cell_type": "code",
   "execution_count": null,
   "id": "f6c7e5d0",
   "metadata": {},
   "outputs": [],
   "source": [
    "sum([1 for x in range(100) if x % 2 == 0])"
   ]
  },
  {
   "cell_type": "markdown",
   "id": "ff3bf915",
   "metadata": {},
   "source": [
    "#### Part 3 Solution\n",
    "\n",
    "Here\\'s one possibility"
   ]
  },
  {
   "cell_type": "code",
   "execution_count": null,
   "id": "63f7d9f4",
   "metadata": {},
   "outputs": [],
   "source": [
    "pairs = ((2, 5), (4, 2), (9, 8), (12, 10))\n",
    "sum([x % 2 == 0 and y % 2 == 0 for x, y in pairs])"
   ]
  },
  {
   "cell_type": "markdown",
   "id": "c3ae789e",
   "metadata": {},
   "source": [
    "### Exercise 2"
   ]
  },
  {
   "cell_type": "code",
   "execution_count": null,
   "id": "cf33ab8a",
   "metadata": {},
   "outputs": [],
   "source": [
    "def p(x, coeff):\n",
    "    return sum(a * x**i for i, a in enumerate(coeff))"
   ]
  },
  {
   "cell_type": "code",
   "execution_count": null,
   "id": "7c8f7bcd",
   "metadata": {},
   "outputs": [],
   "source": [
    "p(1, (2, 4))"
   ]
  },
  {
   "cell_type": "markdown",
   "id": "c54e31a2",
   "metadata": {},
   "source": [
    "### Exercise 3\n",
    "\n",
    "Here\\'s one solution:"
   ]
  },
  {
   "cell_type": "code",
   "execution_count": null,
   "id": "231c86ff",
   "metadata": {},
   "outputs": [],
   "source": [
    "def f(string):\n",
    "    count = 0\n",
    "    for letter in string:\n",
    "        if letter == letter.upper() and letter.isalpha():\n",
    "            count += 1\n",
    "    return count\n",
    "\n",
    "f('The Rain in Spain')"
   ]
  },
  {
   "cell_type": "markdown",
   "id": "3559e91a",
   "metadata": {},
   "source": [
    "An alternative, more pythonic solution:"
   ]
  },
  {
   "cell_type": "code",
   "execution_count": null,
   "id": "4e92af95",
   "metadata": {},
   "outputs": [],
   "source": [
    "def count_uppercase_chars(s):\n",
    "    return sum([c.isupper() for c in s])\n",
    "\n",
    "count_uppercase_chars('The Rain in Spain')"
   ]
  },
  {
   "cell_type": "markdown",
   "id": "7316cd59",
   "metadata": {},
   "source": [
    "### Exercise 4\n",
    "\n",
    "Here\\'s a solution:"
   ]
  },
  {
   "cell_type": "code",
   "execution_count": null,
   "id": "d9f49e69",
   "metadata": {},
   "outputs": [],
   "source": [
    "def f(seq_a, seq_b):\n",
    "    is_subset = True\n",
    "    for a in seq_a:\n",
    "        if a not in seq_b:\n",
    "            is_subset = False\n",
    "    return is_subset\n",
    "\n",
    "# == test == #\n",
    "\n",
    "print(f([1, 2], [1, 2, 3]))\n",
    "print(f([1, 2, 3], [1, 2]))"
   ]
  },
  {
   "cell_type": "markdown",
   "id": "98afaa15",
   "metadata": {},
   "source": [
    "Of course, if we use the `sets` data type then the solution is easier"
   ]
  },
  {
   "cell_type": "code",
   "execution_count": null,
   "id": "4e136d7f",
   "metadata": {},
   "outputs": [],
   "source": [
    "def f(seq_a, seq_b):\n",
    "    return set(seq_a).issubset(set(seq_b))"
   ]
  },
  {
   "cell_type": "markdown",
   "id": "a7f1f7cf",
   "metadata": {},
   "source": [
    "### Exercise 5"
   ]
  },
  {
   "cell_type": "code",
   "execution_count": null,
   "id": "8dae6b53",
   "metadata": {},
   "outputs": [],
   "source": [
    "def linapprox(f, a, b, n, x):\n",
    "    \"\"\"\n",
    "    Evaluates the piecewise linear interpolant of f at x on the interval\n",
    "    [a, b], with n evenly spaced grid points.\n",
    "\n",
    "    Parameters\n",
    "    ==========\n",
    "        f : function\n",
    "            The function to approximate\n",
    "\n",
    "        x, a, b : scalars (floats or integers)\n",
    "            Evaluation point and endpoints, with a <= x <= b\n",
    "\n",
    "        n : integer\n",
    "            Number of grid points\n",
    "\n",
    "    Returns\n",
    "    =======\n",
    "        A float. The interpolant evaluated at x\n",
    "\n",
    "    \"\"\"\n",
    "    length_of_interval = b - a\n",
    "    num_subintervals = n - 1\n",
    "    step = length_of_interval / num_subintervals\n",
    "\n",
    "    # === find first grid point larger than x === #\n",
    "    point = a\n",
    "    while point <= x:\n",
    "        point += step\n",
    "\n",
    "    # === x must lie between the gridpoints (point - step) and point === #\n",
    "    u, v = point - step, point\n",
    "\n",
    "    return f(u) + (x - u) * (f(v) - f(u)) / (v - u)"
   ]
  },
  {
   "cell_type": "markdown",
   "id": "cf58346c",
   "metadata": {},
   "source": [
    "### Exercise 6\n",
    "\n",
    "Here\\'s one solution."
   ]
  },
  {
   "cell_type": "code",
   "execution_count": null,
   "id": "51e38ad0",
   "metadata": {},
   "outputs": [],
   "source": [
    "n = 100\n",
    "ϵ_values = [np.random.randn() for i in range(n)]"
   ]
  }
 ],
 "metadata": {
  "jupytext": {
   "text_representation": {
    "extension": ".md",
    "format_name": "myst"
   }
  },
  "kernelspec": {
   "display_name": "Python 3",
   "language": "python",
   "name": "python3"
  },
  "source_map": [
   10,
   56,
   59,
   64,
   66,
   71,
   76,
   78,
   88,
   92,
   96,
   100,
   104,
   108,
   114,
   125,
   131,
   133,
   143,
   147,
   151,
   156,
   163,
   169,
   171,
   185,
   190,
   192,
   199,
   201,
   205,
   208,
   219,
   224,
   226,
   236,
   241,
   246,
   248,
   252,
   255,
   262,
   267,
   279,
   281,
   287,
   293,
   295,
   330,
   341,
   350,
   358,
   384,
   388,
   392,
   395,
   407,
   412,
   417,
   421,
   428,
   432,
   445,
   449,
   453,
   457,
   460,
   471,
   476,
   478,
   482,
   486,
   488,
   492,
   495,
   499,
   501,
   506,
   511,
   514,
   533,
   537,
   541,
   545,
   549,
   551,
   586,
   591,
   605,
   611,
   653,
   656,
   660,
   662,
   677,
   681,
   713,
   716,
   721,
   723,
   727,
   729,
   847,
   855,
   865,
   869,
   873,
   875,
   881,
   883,
   887,
   889,
   894,
   896,
   900,
   902,
   908,
   911,
   915,
   920,
   922,
   928,
   937,
   941,
   946,
   952,
   964,
   968,
   971,
   975,
   1010,
   1016
  ]
 },
 "nbformat": 4,
 "nbformat_minor": 5
}