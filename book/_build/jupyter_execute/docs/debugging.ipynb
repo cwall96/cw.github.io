{
 "cells": [
  {
   "cell_type": "markdown",
   "id": "dc91567b",
   "metadata": {},
   "source": [
    "(debugging)=\n",
    "\n",
    "# Debugging\n",
    "\n",
    "> \\\"Debugging is twice as hard as writing the code in the first place.\n",
    "> Therefore, if you write the code as cleverly as possible, you are, by\n",
    "> definition, not smart enough to debug it.\\\" -- Brian Kernighan\n",
    "\n",
    "## Overview\n",
    "\n",
    "Are you one of those programmers who fills their code with `print`\n",
    "statements when trying to debug their programs?\n",
    "\n",
    "Hey, we all used to do that.\n",
    "\n",
    "(OK, sometimes we still do that...)\n",
    "\n",
    "But once you start writing larger programs you\\'ll need a better system.\n",
    "\n",
    "Debugging tools for Python vary across platforms, IDEs and editors.\n",
    "\n",
    "Here we\\'ll focus on Jupyter and leave you to explore other settings.\n",
    "\n",
    "We\\'ll need the following imports"
   ]
  },
  {
   "cell_type": "code",
   "execution_count": null,
   "id": "f2ee4bff",
   "metadata": {
    "tags": [
     "remove-output"
    ]
   },
   "outputs": [],
   "source": [
    "import numpy as np\n",
    "import matplotlib.pyplot as plt\n",
    "%matplotlib inline"
   ]
  },
  {
   "cell_type": "markdown",
   "id": "08a1cf1c",
   "metadata": {},
   "source": [
    "## Debugging\n",
    "\n",
    "### The `debug` Magic\n",
    "\n",
    "Let\\'s consider a simple (and rather contrived) example"
   ]
  },
  {
   "cell_type": "code",
   "execution_count": null,
   "id": "55ae40b8",
   "metadata": {
    "tags": [
     "raises-exception"
    ]
   },
   "outputs": [],
   "source": [
    "def plot_log():\n",
    "    fig, ax = plt.subplots(2, 1)\n",
    "    x = np.linspace(1, 2, 10)\n",
    "    ax.plot(x, np.log(x))\n",
    "    plt.show()\n",
    "\n",
    "plot_log()  # Call the function, generate plot"
   ]
  },
  {
   "cell_type": "markdown",
   "id": "70ad14dc",
   "metadata": {},
   "source": [
    "This code is intended to plot the `log` function over the interval\n",
    "$[1, 2]$.\n",
    "\n",
    "But there\\'s an error here: `plt.subplots(2, 1)` should be just\n",
    "`plt.subplots()`.\n",
    "\n",
    "(The call `plt.subplots(2, 1)` returns a NumPy array containing two axes\n",
    "objects, suitable for having two subplots on the same figure)\n",
    "\n",
    "The traceback shows that the error occurs at the method call\n",
    "`ax.plot(x, np.log(x))`.\n",
    "\n",
    "The error occurs because we have mistakenly made `ax` a NumPy array, and\n",
    "a NumPy array has no `plot` method.\n",
    "\n",
    "But let\\'s pretend that we don\\'t understand this for the moment.\n",
    "\n",
    "We might suspect there\\'s something wrong with `ax` but when we try to\n",
    "investigate this object, we get the following exception:"
   ]
  },
  {
   "cell_type": "code",
   "execution_count": null,
   "id": "cd380cb7",
   "metadata": {
    "tags": [
     "raises-exception"
    ]
   },
   "outputs": [],
   "source": [
    "ax"
   ]
  },
  {
   "cell_type": "markdown",
   "id": "285d89b2",
   "metadata": {},
   "source": [
    "The problem is that `ax` was defined inside `plot_log()`, and the name\n",
    "is lost once that function terminates.\n",
    "\n",
    "Let\\'s try doing it a different way.\n",
    "\n",
    "We run the first cell block again, generating the same error"
   ]
  },
  {
   "cell_type": "code",
   "execution_count": null,
   "id": "9ff56765",
   "metadata": {
    "tags": [
     "raises-exception"
    ]
   },
   "outputs": [],
   "source": [
    "def plot_log():\n",
    "    fig, ax = plt.subplots(2, 1)\n",
    "    x = np.linspace(1, 2, 10)\n",
    "    ax.plot(x, np.log(x))\n",
    "    plt.show()\n",
    "\n",
    "plot_log()  # Call the function, generate plot"
   ]
  },
  {
   "cell_type": "markdown",
   "id": "097b9a87",
   "metadata": {},
   "source": [
    "But this time we type in the following cell block\n",
    "\n",
    "```python\n",
    "%debug\n",
    "```\n",
    "\n",
    "You should be dropped into a new prompt that looks something like this\n",
    "\n",
    "```{code-block} none\n",
    "ipdb>\n",
    "```\n",
    "\n",
    "(You might see `pdb\\>` instead)\n",
    "\n",
    "Now we can investigate the value of our variables at this point in the\n",
    "program, step forward through the code, etc.\n",
    "\n",
    "For example, here we simply type the name `ax` to see what\\'s happening\n",
    "with this object:\n",
    "\n",
    "```{code-block} none\n",
    "ipdb> ax\n",
    "array([<matplotlib.axes.AxesSubplot object at 0x290f5d0>,\n",
    "       <matplotlib.axes.AxesSubplot object at 0x2930810>], dtype=object)\n",
    "```\n",
    "\n",
    "It\\'s now very clear that `ax` is an array, which clarifies the source\n",
    "of the problem.\n",
    "\n",
    "To find out what else you can do from inside `ipdb` (or `pdb`), use the\n",
    "online help\n",
    "\n",
    "```{code-block} none\n",
    "ipdb> h\n",
    "\n",
    "Documented commands (type help <topic>):\n",
    "========================================\n",
    "EOF    bt         cont      enable  jump  pdef   r        tbreak   w\n",
    "a      c          continue  exit    l     pdoc   restart  u        whatis\n",
    "alias  cl         d         h       list  pinfo  return   unalias  where\n",
    "args   clear      debug     help    n     pp     run      unt\n",
    "b      commands   disable   ignore  next  q      s        until\n",
    "break  condition  down      j       p     quit   step     up\n",
    "\n",
    "Miscellaneous help topics:\n",
    "==========================\n",
    "exec  pdb\n",
    "\n",
    "Undocumented commands:\n",
    "======================\n",
    "retval  rv\n",
    "\n",
    "ipdb> h c\n",
    "c(ont(inue))\n",
    "Continue execution, only stop when a breakpoint is encountered.\n",
    "```\n",
    "\n",
    "### Setting a Break Point\n",
    "\n",
    "The preceding approach is handy but sometimes insufficient.\n",
    "\n",
    "Consider the following modified version of our function above"
   ]
  },
  {
   "cell_type": "code",
   "execution_count": null,
   "id": "d33a95ae",
   "metadata": {},
   "outputs": [],
   "source": [
    "def plot_log():\n",
    "    fig, ax = plt.subplots()\n",
    "    x = np.logspace(1, 2, 10)\n",
    "    ax.plot(x, np.log(x))\n",
    "    plt.show()\n",
    "\n",
    "plot_log()"
   ]
  },
  {
   "cell_type": "markdown",
   "id": "60317e59",
   "metadata": {},
   "source": [
    "Here the original problem is fixed, but we\\'ve accidentally written\n",
    "`np.logspace(1, 2, 10)` instead of `np.linspace(1, 2, 10)`.\n",
    "\n",
    "Now there won\\'t be any exception, but the plot won\\'t look right.\n",
    "\n",
    "To investigate, it would be helpful if we could inspect variables like\n",
    "`x` during execution of the function.\n",
    "\n",
    "To this end, we add a \\\"break point\\\" by inserting `breakpoint()` inside\n",
    "the function code block\n",
    "\n",
    "```python\n",
    "def plot_log():\n",
    "    breakpoint()\n",
    "    fig, ax = plt.subplots()\n",
    "    x = np.logspace(1, 2, 10)\n",
    "    ax.plot(x, np.log(x))\n",
    "    plt.show()\n",
    "\n",
    "plot_log()\n",
    "```\n",
    "\n",
    "Now let\\'s run the script, and investigate via the debugger\n",
    "\n",
    "```{code-block} none\n",
    "> <ipython-input-6-a188074383b7>(6)plot_log()\n",
    "-> fig, ax = plt.subplots()\n",
    "(Pdb) n\n",
    "> <ipython-input-6-a188074383b7>(7)plot_log()\n",
    "-> x = np.logspace(1, 2, 10)\n",
    "(Pdb) n\n",
    "> <ipython-input-6-a188074383b7>(8)plot_log()\n",
    "-> ax.plot(x, np.log(x))\n",
    "(Pdb) x\n",
    "array([ 10.        ,  12.91549665,  16.68100537,  21.5443469 ,\n",
    "        27.82559402,  35.93813664,  46.41588834,  59.94842503,\n",
    "        77.42636827, 100.        ])\n",
    "```\n",
    "\n",
    "We used `n` twice to step forward through the code (one line at a time).\n",
    "\n",
    "Then we printed the value of `x` to see what was happening with that\n",
    "variable.\n",
    "\n",
    "To exit from the debugger, use `q`.\n",
    "\n",
    "## Other Useful Magics\n",
    "\n",
    "In this lecture, we used the `%debug` IPython magic.\n",
    "\n",
    "There are many other useful magics:\n",
    "\n",
    "-   `%precision 4` sets printed precision for floats to 4 decimal places\n",
    "-   `%whos` gives a list of variables and their values\n",
    "-   `%quickref` gives a list of magics\n",
    "\n",
    "The full list of magics is\n",
    "[here](http://ipython.readthedocs.org/en/stable/interactive/magics.html)."
   ]
  }
 ],
 "metadata": {
  "jupytext": {
   "text_representation": {
    "extension": ".md",
    "format_name": "myst"
   }
  },
  "kernelspec": {
   "display_name": "Python 3",
   "language": "python",
   "name": "python3"
  },
  "source_map": [
   10,
   37,
   43,
   51,
   61,
   83,
   87,
   96,
   106,
   171,
   179
  ]
 },
 "nbformat": 4,
 "nbformat_minor": 5
}