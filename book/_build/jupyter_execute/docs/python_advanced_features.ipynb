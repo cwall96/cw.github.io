{
 "cells": [
  {
   "cell_type": "markdown",
   "id": "6286c9ea",
   "metadata": {},
   "source": [
    "(python_advanced_features)=\n",
    "\n",
    "# More Language Features\n",
    "\n",
    "## Overview\n",
    "\n",
    "```{tip}\n",
    "With this last lecture, our advice is to **skip it on first pass**,\n",
    "unless you have a burning desire to read it.\n",
    "```\n",
    "\n",
    "It\\'s here\n",
    "\n",
    "1.  as a reference, so we can link back to it when required, and\n",
    "2.  for those who have worked through a number of applications, and now\n",
    "    want to learn more about the Python language\n",
    "\n",
    "A variety of topics are treated in the lecture, including generators,\n",
    "exceptions and descriptors.\n",
    "\n",
    "## Iterables and Iterators\n",
    "\n",
    "We\\'ve {ref}`already said something <iterating_version_1>` about iterating in Python.\n",
    "\n",
    "Now let\\'s look more closely at how it all works, focusing in Python\\'s\n",
    "implementation of the `for` loop.\n",
    "\n",
    "### Iterators\n",
    "\n",
    "Iterators are a uniform interface to stepping through elements in a\n",
    "collection.\n",
    "\n",
    "Here we\\'ll talk about using iterators---later we\\'ll learn how to\n",
    "build our own.\n",
    "\n",
    "Formally, an *iterator* is an object with a `__next__` method.\n",
    "\n",
    "For example, file objects are iterators .\n",
    "\n",
    "<!-- To see this, let\\'s have another look at the\n",
    "{ref}`US cities data <us_cities_data>`, which\n",
    "is written to the present working directory in the following cell\n",
    "\n",
    "```{code-cell} ipython3\n",
    "%%file us_cities.txt\n",
    "new york: 8244910\n",
    "los angeles: 3819702\n",
    "chicago: 2707120\n",
    "houston: 2145146\n",
    "philadelphia: 1536471\n",
    "phoenix: 1469471\n",
    "san antonio: 1359758\n",
    "san diego: 1326179\n",
    "dallas: 1223229 \n",
    "```\n",
    "\n",
    "```{code-cell} ipython3\n",
    "f = open('us_cities.txt')\n",
    "f.__next__()\n",
    "```\n",
    "\n",
    "```{code-cell} ipython3\n",
    "f.__next__()\n",
    "```\n",
    "\n",
    "We see that file objects do indeed have a `__next__` method, and that\n",
    "calling this method returns the next line in the file.\n",
    "\n",
    "The next method can also be accessed via the builtin function `next()`,\n",
    "which directly calls this method\n",
    "\n",
    "```{code-cell} ipython3\n",
    "next(f)\n",
    "``` -->\n",
    "\n",
    "The objects returned by `enumerate()` are also iterators"
   ]
  },
  {
   "cell_type": "code",
   "execution_count": null,
   "id": "2b75961f",
   "metadata": {},
   "outputs": [],
   "source": [
    "e = enumerate(['foo', 'bar'])\n",
    "next(e)"
   ]
  },
  {
   "cell_type": "code",
   "execution_count": null,
   "id": "60dd891c",
   "metadata": {},
   "outputs": [],
   "source": [
    "next(e)"
   ]
  },
  {
   "cell_type": "markdown",
   "id": "0f3ebd5d",
   "metadata": {},
   "source": [
    "as are the reader objects from the `csv` module .\n",
    "\n",
    "Let\\'s create a small csv file that contains data from the NIKKEI index\n",
    "\n",
    "<!-- ```{code-cell} ipython3\n",
    "%%file test_table.csv\n",
    "Date,Open,High,Low,Close,Volume,Adj Close\n",
    "2009-05-21,9280.35,9286.35,9189.92,9264.15,133200,9264.15\n",
    "2009-05-20,9372.72,9399.40,9311.61,9344.64,143200,9344.64\n",
    "2009-05-19,9172.56,9326.75,9166.97,9290.29,167000,9290.29\n",
    "2009-05-18,9167.05,9167.82,8997.74,9038.69,147800,9038.69\n",
    "2009-05-15,9150.21,9272.08,9140.90,9265.02,172000,9265.02\n",
    "2009-05-14,9212.30,9223.77,9052.41,9093.73,169400,9093.73\n",
    "2009-05-13,9305.79,9379.47,9278.89,9340.49,176000,9340.49\n",
    "2009-05-12,9358.25,9389.61,9298.61,9298.61,188400,9298.61\n",
    "2009-05-11,9460.72,9503.91,9342.75,9451.98,230800,9451.98\n",
    "2009-05-08,9351.40,9464.43,9349.57,9432.83,220200,9432.83\n",
    "```\n",
    "\n",
    "```{code-cell} ipython3\n",
    "from csv import reader\n",
    "\n",
    "f = open('test_table.csv', 'r')  \n",
    "nikkei_data = reader(f) \n",
    "next(nikkei_data)\n",
    "```\n",
    "\n",
    "```{code-cell} ipython3\n",
    "next(nikkei_data)\n",
    "``` -->\n",
    "\n",
    "### Iterators in For Loops\n",
    "\n",
    "All iterators can be placed to the right of the `in` keyword in `for`\n",
    "loop statements.\n",
    "\n",
    "In fact this is how the `for` loop works: If we write\n",
    "\n",
    "```python\n",
    "for x in iterator:\n",
    "    <code block>\n",
    "```\n",
    "\n",
    "then the interpreter\n",
    "\n",
    "-   calls `iterator.___next___()` and binds `x` to the result\n",
    "-   executes the code block\n",
    "-   repeats until a `StopIteration` error occurs\n",
    "\n",
    "So now you know how this magical looking syntax works\n",
    "\n",
    "```python\n",
    "f = open('somefile.txt', 'r')\n",
    "for line in f:\n",
    "    # do something\n",
    "```\n",
    "\n",
    "The interpreter just keeps\n",
    "\n",
    "1.  calling `f.__next__()` and binding `line` to the result\n",
    "2.  executing the body of the loop\n",
    "\n",
    "This continues until a `StopIteration` error occurs.\n",
    "\n",
    "### Iterables\n",
    "\n",
    "You already know that we can put a Python list to the right of `in` in a\n",
    "`for` loop"
   ]
  },
  {
   "cell_type": "code",
   "execution_count": null,
   "id": "e6d218af",
   "metadata": {},
   "outputs": [],
   "source": [
    "for i in ['spam', 'eggs']:\n",
    "    print(i)"
   ]
  },
  {
   "cell_type": "markdown",
   "id": "f8adea1f",
   "metadata": {},
   "source": [
    "So does that mean that a list is an iterator?\n",
    "\n",
    "The answer is no"
   ]
  },
  {
   "cell_type": "code",
   "execution_count": null,
   "id": "14e07382",
   "metadata": {},
   "outputs": [],
   "source": [
    "x = ['foo', 'bar']\n",
    "type(x)"
   ]
  },
  {
   "cell_type": "code",
   "execution_count": null,
   "id": "eb56c233",
   "metadata": {
    "tags": [
     "raises-exception"
    ]
   },
   "outputs": [],
   "source": [
    "next(x)"
   ]
  },
  {
   "cell_type": "markdown",
   "id": "d924b382",
   "metadata": {},
   "source": [
    "So why can we iterate over a list in a `for` loop?\n",
    "\n",
    "The reason is that a list is *iterable* (as opposed to an iterator).\n",
    "\n",
    "Formally, an object is iterable if it can be converted to an iterator\n",
    "using the built-in function `iter()`.\n",
    "\n",
    "Lists are one such object"
   ]
  },
  {
   "cell_type": "code",
   "execution_count": null,
   "id": "15a95068",
   "metadata": {},
   "outputs": [],
   "source": [
    "x = ['foo', 'bar']\n",
    "type(x)"
   ]
  },
  {
   "cell_type": "code",
   "execution_count": null,
   "id": "f9e6a993",
   "metadata": {},
   "outputs": [],
   "source": [
    "y = iter(x)\n",
    "type(y)"
   ]
  },
  {
   "cell_type": "code",
   "execution_count": null,
   "id": "5b8f16ca",
   "metadata": {},
   "outputs": [],
   "source": [
    "next(y)  "
   ]
  },
  {
   "cell_type": "code",
   "execution_count": null,
   "id": "59265027",
   "metadata": {},
   "outputs": [],
   "source": [
    "next(y)"
   ]
  },
  {
   "cell_type": "code",
   "execution_count": null,
   "id": "ce90bc04",
   "metadata": {
    "tags": [
     "raises-exception"
    ]
   },
   "outputs": [],
   "source": [
    "next(y)    "
   ]
  },
  {
   "cell_type": "markdown",
   "id": "c31e9725",
   "metadata": {},
   "source": [
    "Many other objects are iterable, such as dictionaries and tuples.\n",
    "\n",
    "Of course, not all objects are iterable"
   ]
  },
  {
   "cell_type": "code",
   "execution_count": null,
   "id": "7307552a",
   "metadata": {
    "tags": [
     "raises-exception"
    ]
   },
   "outputs": [],
   "source": [
    "iter(42)"
   ]
  },
  {
   "cell_type": "markdown",
   "id": "2f47afed",
   "metadata": {},
   "source": [
    "To conclude our discussion of `for` loops\n",
    "\n",
    "-   `for` loops work on either iterators or iterables.\n",
    "-   In the second case, the iterable is converted into an iterator\n",
    "    before the loop starts.\n",
    "\n",
    "### Iterators and built-ins\n",
    "\n",
    "Some built-in functions that act on sequences also work with iterables\n",
    "\n",
    "-   `max()`, `min()`, `sum()`, `all()`, `any()`\n",
    "\n",
    "For example"
   ]
  },
  {
   "cell_type": "code",
   "execution_count": null,
   "id": "730b2fd2",
   "metadata": {},
   "outputs": [],
   "source": [
    "x = [10, -10]\n",
    "max(x)"
   ]
  },
  {
   "cell_type": "code",
   "execution_count": null,
   "id": "2088139b",
   "metadata": {},
   "outputs": [],
   "source": [
    "y = iter(x)\n",
    "type(y)    "
   ]
  },
  {
   "cell_type": "code",
   "execution_count": null,
   "id": "22e2e3c1",
   "metadata": {},
   "outputs": [],
   "source": [
    "max(y)"
   ]
  },
  {
   "cell_type": "markdown",
   "id": "731115e5",
   "metadata": {},
   "source": [
    "One thing to remember about iterators is that they are depleted by use"
   ]
  },
  {
   "cell_type": "code",
   "execution_count": null,
   "id": "a06018b9",
   "metadata": {},
   "outputs": [],
   "source": [
    "x = [10, -10]\n",
    "y = iter(x)\n",
    "max(y)"
   ]
  },
  {
   "cell_type": "code",
   "execution_count": null,
   "id": "868bc852",
   "metadata": {
    "tags": [
     "raises-exception"
    ]
   },
   "outputs": [],
   "source": [
    "max(y)"
   ]
  },
  {
   "cell_type": "markdown",
   "id": "8101bc03",
   "metadata": {},
   "source": [
    "(name_res)=\n",
    "\n",
    "## Names and Name Resolution\n",
    "\n",
    "### Variable Names in Python\n",
    "\n",
    "Consider the Python statement"
   ]
  },
  {
   "cell_type": "code",
   "execution_count": null,
   "id": "ea31268c",
   "metadata": {},
   "outputs": [],
   "source": [
    "x = 42"
   ]
  },
  {
   "cell_type": "markdown",
   "id": "adc08db5",
   "metadata": {},
   "source": [
    "We now know that when this statement is executed, Python creates an\n",
    "object of type `int` in your computer\\'s memory, containing\n",
    "\n",
    "-   the value `42`\n",
    "-   some associated attributes\n",
    "\n",
    "But what is `x` itself?\n",
    "\n",
    "In Python, `x` is called a *name*, and the statement `x = 42` *binds*\n",
    "the name `x` to the integer object we have just discussed.\n",
    "\n",
    "Under the hood, this process of binding names to objects is implemented\n",
    "as a dictionary---more about this in a moment.\n",
    "\n",
    "There is no problem binding two or more names to the one object,\n",
    "regardless of what that object is"
   ]
  },
  {
   "cell_type": "code",
   "execution_count": null,
   "id": "323cf9c2",
   "metadata": {},
   "outputs": [],
   "source": [
    "def f(string):      # Create a function called f\n",
    "    print(string)   # that prints any string it's passed\n",
    "\n",
    "g = f\n",
    "id(g) == id(f)"
   ]
  },
  {
   "cell_type": "code",
   "execution_count": null,
   "id": "3cb4b292",
   "metadata": {},
   "outputs": [],
   "source": [
    "g('test')"
   ]
  },
  {
   "cell_type": "markdown",
   "id": "4e0e9736",
   "metadata": {},
   "source": [
    "In the first step, a function object is created, and the name `f` is\n",
    "bound to it.\n",
    "\n",
    "After binding the name `g` to the same object, we can use it anywhere we\n",
    "would use `f`.\n",
    "\n",
    "What happens when the number of names bound to an object goes to zero?\n",
    "\n",
    "Here\\'s an example of this situation, where the name `x` is first bound\n",
    "to one object and then rebound to another"
   ]
  },
  {
   "cell_type": "code",
   "execution_count": null,
   "id": "a7b7651b",
   "metadata": {},
   "outputs": [],
   "source": [
    "x = 'foo'\n",
    "id(x)"
   ]
  },
  {
   "cell_type": "code",
   "execution_count": null,
   "id": "c4aad523",
   "metadata": {},
   "outputs": [],
   "source": [
    "x = 'bar'  # No names bound to the first object"
   ]
  },
  {
   "cell_type": "markdown",
   "id": "9bee2d16",
   "metadata": {},
   "source": [
    "What happens here is that the first object is garbage collected.\n",
    "\n",
    "In other words, the memory slot that stores that object is deallocated,\n",
    "and returned to the operating system.\n",
    "\n",
    "### Namespaces\n",
    "\n",
    "Recall from the preceding discussion that the statement"
   ]
  },
  {
   "cell_type": "code",
   "execution_count": null,
   "id": "2ddce84f",
   "metadata": {},
   "outputs": [],
   "source": [
    "x = 42"
   ]
  },
  {
   "cell_type": "markdown",
   "id": "868680c9",
   "metadata": {},
   "source": [
    "binds the name `x` to the integer object on the right-hand side.\n",
    "\n",
    "We also mentioned that this process of binding `x` to the correct object\n",
    "is implemented as a dictionary.\n",
    "\n",
    "This dictionary is called a *namespace*.\n",
    "\n",
    "**Definition:** A namespace is a symbol table that maps names to objects\n",
    "in memory.\n",
    "\n",
    "Python uses multiple namespaces, creating them on the fly as necessary .\n",
    "\n",
    "For example, every time we import a module, Python creates a namespace\n",
    "for that module.\n",
    "\n",
    "To see this in action, suppose we write a script `math2.py` with a\n",
    "single line\n",
    "\n",
    "<!-- ```{code-cell} ipython3\n",
    "%%file math2.py\n",
    "pi = 'foobar'\n",
    "```\n",
    "\n",
    "Now we start the Python interpreter and import it\n",
    "\n",
    "```{code-cell} ipython3\n",
    "import math2\n",
    "```\n",
    "\n",
    "Next let\\'s import the `math` module from the standard library\n",
    "\n",
    "```{code-cell} ipython3\n",
    "import math\n",
    "```\n",
    "\n",
    "Both of these modules have an attribute called `pi`\n",
    "\n",
    "```{code-cell} ipython3\n",
    "math.pi\n",
    "```\n",
    "\n",
    "```{code-cell} ipython3\n",
    "math2.pi\n",
    "```\n",
    "\n",
    "These two different bindings of `pi` exist in different namespaces, each\n",
    "one implemented as a dictionary.\n",
    "\n",
    "We can look at the dictionary directly, using `module_name.__dict__`\n",
    "\n",
    "```{code-cell} ipython3\n",
    "import math\n",
    "\n",
    "math.__dict__.items()\n",
    "```\n",
    "\n",
    "```{code-cell} ipython3\n",
    "import math2\n",
    "\n",
    "math2.__dict__.items()\n",
    "```\n",
    "\n",
    "As you know, we access elements of the namespace using the dotted\n",
    "attribute notation\n",
    "\n",
    "```{code-cell} ipython3\n",
    "math.pi\n",
    "```\n",
    "\n",
    "In fact this is entirely equivalent to `math.__dict__['pi']`\n",
    "\n",
    "```{code-cell} ipython3\n",
    "math.__dict__['pi'] == math.pi\n",
    "```\n",
    " -->\n",
    "### Viewing Namespaces\n",
    "\n",
    "As we saw above, the `math` namespace can be printed by typing\n",
    "`math.__dict__`.\n",
    "\n",
    "Another way to see its contents is to type `vars(math)`\n",
    "\n",
    "<!-- ```{code-cell} ipython3\n",
    "vars(math).items()\n",
    "```\n",
    "\n",
    "If you just want to see the names, you can type\n",
    "\n",
    "```{code-cell} ipython3\n",
    "dir(math)[0:10]\n",
    "```\n",
    "\n",
    "Notice the special names `__doc__` and `__name__`.\n",
    "\n",
    "These are initialized in the namespace when any module is imported\n",
    "\n",
    "-   `__doc__` is the doc string of the module\n",
    "-   `__name__` is the name of the module\n",
    "\n",
    "```{code-cell} ipython3\n",
    "print(math.__doc__)\n",
    "```\n",
    "\n",
    "```{code-cell} ipython3\n",
    "math.__name__\n",
    "``` -->\n",
    "\n",
    "### Interactive Sessions\n",
    "\n",
    "In Python, **all** code executed by the interpreter runs in some module.\n",
    "\n",
    "What about commands typed at the prompt?\n",
    "\n",
    "These are also regarded as being executed within a module --- in this\n",
    "case, a module called `__main__`.\n",
    "\n",
    "To check this, we can look at the current module name via the value of\n",
    "`__name__` given at the prompt"
   ]
  },
  {
   "cell_type": "code",
   "execution_count": null,
   "id": "cd47742d",
   "metadata": {},
   "outputs": [],
   "source": [
    "print(__name__)"
   ]
  },
  {
   "cell_type": "markdown",
   "id": "abaecdf0",
   "metadata": {},
   "source": [
    "When we run a script using IPython\\'s `run` command, the contents of the\n",
    "file are executed as part of `__main__` too.\n",
    "\n",
    "To see this, let\\'s create a file `mod.py` that prints its own\n",
    "`__name__` attribute\n",
    "\n",
    "<!-- ```{code-cell} ipython3\n",
    "%%file mod.py\n",
    "print(__name__)\n",
    "```\n",
    "\n",
    "Now let\\'s look at two different ways of running it in IPython\n",
    "\n",
    "```{code-cell} ipython3\n",
    "import mod  # Standard import\n",
    "```\n",
    "\n",
    "```{code-cell} ipython3\n",
    "%run mod.py  # Run interactively\n",
    "```\n",
    "\n",
    "In the second case, the code is executed as part of `__main__`, so\n",
    "`__name__` is equal to `__main__`.\n",
    "\n",
    "To see the contents of the namespace of `__main__` we use `vars()`\n",
    "rather than `vars(__main__)` .\n",
    "\n",
    "If you do this in IPython, you will see a whole lot of variables that\n",
    "IPython needs, and has initialized when you started up your session.\n",
    "\n",
    "If you prefer to see only the variables you have initialized, use `whos`\n",
    "\n",
    "```{code-cell} ipython3\n",
    "x = 2\n",
    "y = 3\n",
    "\n",
    "import numpy as np\n",
    "\n",
    "%whos\n",
    "``` -->\n",
    "\n",
    "### The Global Namespace\n",
    "\n",
    "Python documentation often makes reference to the \\\"global namespace\\\".\n",
    "\n",
    "The global namespace is *the namespace of the module currently being\n",
    "executed*.\n",
    "\n",
    "For example, suppose that we start the interpreter and begin making\n",
    "assignments .\n",
    "\n",
    "We are now working in the module `__main__`, and hence the namespace for\n",
    "`__main__` is the global namespace.\n",
    "\n",
    "Next, we import a module called `amodule`\n",
    "\n",
    "```python\n",
    "import amodule\n",
    "```\n",
    "\n",
    "At this point, the interpreter creates a namespace for the module\n",
    "`amodule` and starts executing commands in the module.\n",
    "\n",
    "While this occurs, the namespace `amodule.__dict__` is the global\n",
    "namespace.\n",
    "\n",
    "Once execution of the module finishes, the interpreter returns to the\n",
    "module from where the import statement was made.\n",
    "\n",
    "In this case it\\'s `__main__`, so the namespace of `__main__` again\n",
    "becomes the global namespace.\n",
    "\n",
    "### Local Namespaces\n",
    "\n",
    "Important fact: When we call a function, the interpreter creates a\n",
    "*local namespace* for that function, and registers the variables in that\n",
    "namespace.\n",
    "\n",
    "The reason for this will be explained in just a moment.\n",
    "\n",
    "Variables in the local namespace are called *local variables*.\n",
    "\n",
    "After the function returns, the namespace is deallocated and lost.\n",
    "\n",
    "While the function is executing, we can view the contents of the local\n",
    "namespace with `locals()`.\n",
    "\n",
    "For example, consider"
   ]
  },
  {
   "cell_type": "code",
   "execution_count": null,
   "id": "1a3ad88e",
   "metadata": {},
   "outputs": [],
   "source": [
    "def f(x):\n",
    "    a = 2\n",
    "    print(locals())\n",
    "    return a * x"
   ]
  },
  {
   "cell_type": "markdown",
   "id": "3225ac38",
   "metadata": {},
   "source": [
    "Now let\\'s call the function"
   ]
  },
  {
   "cell_type": "code",
   "execution_count": null,
   "id": "59bf0d9a",
   "metadata": {},
   "outputs": [],
   "source": [
    "f(1)"
   ]
  },
  {
   "cell_type": "markdown",
   "id": "63426633",
   "metadata": {},
   "source": [
    "You can see the local namespace of `f` before it is destroyed.\n",
    "\n",
    "### The `__builtins__` Namespace\n",
    "\n",
    "We have been using various built-in functions, such as\n",
    "`max(), dir(), str(), list(), len(), range(), type()`, etc.\n",
    "\n",
    "How does access to these names work?\n",
    "\n",
    "-   These definitions are stored in a module called `__builtin__`.\n",
    "-   They have there own namespace called `__builtins__`."
   ]
  },
  {
   "cell_type": "code",
   "execution_count": null,
   "id": "7df42589",
   "metadata": {},
   "outputs": [],
   "source": [
    "dir()[0:10]"
   ]
  },
  {
   "cell_type": "code",
   "execution_count": null,
   "id": "a5b0ff31",
   "metadata": {},
   "outputs": [],
   "source": [
    "dir(__builtins__)[0:10]"
   ]
  },
  {
   "cell_type": "markdown",
   "id": "af991be0",
   "metadata": {},
   "source": [
    "We can access elements of the namespace as follows"
   ]
  },
  {
   "cell_type": "code",
   "execution_count": null,
   "id": "0bba5ab9",
   "metadata": {},
   "outputs": [],
   "source": [
    "__builtins__.max"
   ]
  },
  {
   "cell_type": "markdown",
   "id": "dfaca544",
   "metadata": {},
   "source": [
    "But `__builtins__` is special, because we can always access them\n",
    "directly as well"
   ]
  },
  {
   "cell_type": "code",
   "execution_count": null,
   "id": "0ca0f35a",
   "metadata": {},
   "outputs": [],
   "source": [
    "max"
   ]
  },
  {
   "cell_type": "code",
   "execution_count": null,
   "id": "28cbfcfe",
   "metadata": {},
   "outputs": [],
   "source": [
    "__builtins__.max == max"
   ]
  },
  {
   "cell_type": "markdown",
   "id": "b6a6f70a",
   "metadata": {},
   "source": [
    "The next section explains how this works ...\n",
    "\n",
    "### Name Resolution\n",
    "\n",
    "Namespaces are great because they help us organize variable names.\n",
    "\n",
    "(Type `import this` at the prompt and look at the last item that\\'s\n",
    "printed)\n",
    "\n",
    "However, we do need to understand how the Python interpreter works with\n",
    "multiple namespaces .\n",
    "\n",
    "At any point of execution, there are in fact at least two namespaces\n",
    "that can be accessed directly.\n",
    "\n",
    "(\\\"Accessed directly\\\" means without using a dot, as in `pi` rather than\n",
    "`math.pi`)\n",
    "\n",
    "These namespaces are\n",
    "\n",
    "-   The global namespace (of the module being executed)\n",
    "-   The builtin namespace\n",
    "\n",
    "If the interpreter is executing a function, then the directly accessible\n",
    "namespaces are\n",
    "\n",
    "-   The local namespace of the function\n",
    "-   The global namespace (of the module being executed)\n",
    "-   The builtin namespace\n",
    "\n",
    "Sometimes functions are defined within other functions, like so"
   ]
  },
  {
   "cell_type": "code",
   "execution_count": null,
   "id": "250087b8",
   "metadata": {},
   "outputs": [],
   "source": [
    "def f():\n",
    "    a = 2\n",
    "    def g():\n",
    "        b = 4\n",
    "        print(a * b)\n",
    "    g()"
   ]
  },
  {
   "cell_type": "markdown",
   "id": "51f71b8d",
   "metadata": {},
   "source": [
    "Here `f` is the *enclosing function* for `g`, and each function gets its\n",
    "own namespaces.\n",
    "\n",
    "Now we can give the rule for how namespace resolution works:\n",
    "\n",
    "The order in which the interpreter searches for names is\n",
    "\n",
    "1.  the local namespace (if it exists)\n",
    "2.  the hierarchy of enclosing namespaces (if they exist)\n",
    "3.  the global namespace\n",
    "4.  the builtin namespace\n",
    "\n",
    "If the name is not in any of these namespaces, the interpreter raises a\n",
    "`NameError`.\n",
    "\n",
    "This is called the **LEGB rule** (local, enclosing, global, builtin).\n",
    "\n",
    "Here\\'s an example that helps to illustrate .\n",
    "\n",
    "Consider a script `test.py` that looks as follows\n",
    "\n",
    "<!-- ```{code-cell} ipython3\n",
    "%%file test.py\n",
    "def g(x):\n",
    "    a = 1\n",
    "    x = x + a\n",
    "    return x\n",
    "\n",
    "a = 0\n",
    "y = g(10)\n",
    "print(\"a = \", a, \"y = \", y)\n",
    "```\n",
    "\n",
    "What happens when we run this script?\n",
    "\n",
    "```{code-cell} ipython3\n",
    "%run test.py\n",
    "```\n",
    "\n",
    "```python\n",
    "x\n",
    "``` -->\n",
    "\n",
    "First,\n",
    "\n",
    "-   The global namespace `{}` is created.\n",
    "-   The function object is created, and `g` is bound to it within the\n",
    "    global namespace.\n",
    "-   The name `a` is bound to `0`, again in the global namespace.\n",
    "\n",
    "Next `g` is called via `y = g(10)`, leading to the following sequence of\n",
    "actions\n",
    "\n",
    "-   The local namespace for the function is created.\n",
    "-   Local names `x` and `a` are bound, so that the local namespace\n",
    "    becomes `{'x': 10, 'a': 1}`.\n",
    "-   Statement `x = x + a` uses the local `a` and local `x` to compute\n",
    "    `x + a`, and binds local name `x` to the result.\n",
    "-   This value is returned, and `y` is bound to it in the global\n",
    "    namespace.\n",
    "-   Local `x` and `a` are discarded (and the local namespace is\n",
    "    deallocated).\n",
    "\n",
    "Note that the global `a` was not affected by the local `a`.\n",
    "\n",
    "(mutable_vs_immutable)=\n",
    "\n",
    "### Mutable Versus Immutable Parameters\n",
    "\n",
    "This is a good time to say a little more about mutable vs immutable\n",
    "objects.\n",
    "\n",
    "Consider the code segment"
   ]
  },
  {
   "cell_type": "code",
   "execution_count": null,
   "id": "158fea27",
   "metadata": {},
   "outputs": [],
   "source": [
    "def f(x):\n",
    "    x = x + 1\n",
    "    return x\n",
    "\n",
    "x = 1\n",
    "print(f(x), x)"
   ]
  },
  {
   "cell_type": "markdown",
   "id": "b3105513",
   "metadata": {},
   "source": [
    "We now understand what will happen here: The code prints `2` as the\n",
    "value of `f(x)` and `1` as the value of `x`.\n",
    "\n",
    "First `f` and `x` are registered in the global namespace.\n",
    "\n",
    "The call `f(x)` creates a local namespace and adds `x` to it, bound to\n",
    "`1`.\n",
    "\n",
    "Next, this local `x` is rebound to the new integer object `2`, and this\n",
    "value is returned.\n",
    "\n",
    "None of this affects the global `x`.\n",
    "\n",
    "However, it\\'s a different story when we use a **mutable** data type\n",
    "such as a list"
   ]
  },
  {
   "cell_type": "code",
   "execution_count": null,
   "id": "780419ca",
   "metadata": {},
   "outputs": [],
   "source": [
    "def f(x):\n",
    "    x[0] = x[0] + 1\n",
    "    return x\n",
    "\n",
    "x = [1]\n",
    "print(f(x), x)"
   ]
  },
  {
   "cell_type": "markdown",
   "id": "611232bc",
   "metadata": {},
   "source": [
    "This prints `[2]` as the value of `f(x)` and *same* for `x`.\n",
    "\n",
    "Here\\'s what happens\n",
    "\n",
    "-   `f` is registered as a function in the global namespace\n",
    "-   `x` bound to `[1]` in the global namespace\n",
    "-   The call `f(x)`\n",
    "    -   Creates a local namespace\n",
    "    -   Adds `x` to local namespace, bound to `[1]`\n",
    "    -   The list `[1]` is modified to `[2]`\n",
    "    -   Returns the list `[2]`\n",
    "    -   The local namespace is deallocated, and local `x` is lost\n",
    "-   Global `x` has been modified\n",
    "\n",
    "## Handling Errors\n",
    "\n",
    "Sometimes it\\'s possible to anticipate errors as we\\'re writing code.\n",
    "\n",
    "For example, the unbiased sample variance of sample $y_1, \\ldots, y_n$\n",
    "is defined as\n",
    "\n",
    "$$\n",
    "s^2 := \\frac{1}{n-1} \\sum_{i=1}^n (y_i - \\bar y)^2\n",
    "\\qquad \\bar y = \\text{ sample mean}\n",
    "$$\n",
    "\n",
    "This can be calculated in NumPy using `np.var`.\n",
    "\n",
    "But if you were writing a function to handle such a calculation, you\n",
    "might anticipate a divide-by-zero error when the sample size is one.\n",
    "\n",
    "One possible action is to do nothing --- the program will just crash,\n",
    "and spit out an error message.\n",
    "\n",
    "But sometimes it\\'s worth writing your code in a way that anticipates\n",
    "and deals with runtime errors that you think might arise.\n",
    "\n",
    "Why?\n",
    "\n",
    "-   Because the debugging information provided by the interpreter is\n",
    "    often less useful than the information on possible errors you have\n",
    "    in your head when writing code.\n",
    "-   Because errors causing execution to stop are frustrating if you\\'re\n",
    "    in the middle of a large computation.\n",
    "-   Because it\\'s reduces confidence in your code on the part of your\n",
    "    users (if you are writing for others).\n",
    "\n",
    "### Assertions\n",
    "\n",
    "A relatively easy way to handle checks is with the `assert` keyword.\n",
    "\n",
    "For example, pretend for a moment that the `np.var` function doesn\\'t\n",
    "exist and we need to write our own"
   ]
  },
  {
   "cell_type": "code",
   "execution_count": null,
   "id": "b9ddd362",
   "metadata": {},
   "outputs": [],
   "source": [
    "def var(y):\n",
    "    n = len(y)\n",
    "    assert n > 1, 'Sample size must be greater than one.'\n",
    "    return np.sum((y - y.mean())**2) / float(n-1)"
   ]
  },
  {
   "cell_type": "markdown",
   "id": "0091e423",
   "metadata": {},
   "source": [
    "If we run this with an array of length one, the program will terminate\n",
    "and print our error message\n",
    "\n",
    "```python\n",
    "var([1])\n",
    "```\n",
    "\n",
    "The advantage is that we can\n",
    "\n",
    "-   fail early, as soon as we know there will be a problem\n",
    "-   supply specific information on why a program is failing\n",
    "\n",
    "### Handling Errors During Runtime\n",
    "\n",
    "The approach used above is a bit limited, because it always leads to\n",
    "termination.\n",
    "\n",
    "Sometimes we can handle errors more gracefully, by treating special\n",
    "cases.\n",
    "\n",
    "Let\\'s look at how this is done.\n",
    "\n",
    "#### Exceptions\n",
    "\n",
    "Here\\'s an example of a common error type\n",
    "\n",
    "```python\n",
    "def f:\n",
    "```\n",
    "\n",
    "Since illegal syntax cannot be executed, a syntax error terminates\n",
    "execution of the program.\n",
    "\n",
    "Here\\'s a different kind of error, unrelated to syntax"
   ]
  },
  {
   "cell_type": "code",
   "execution_count": null,
   "id": "6a14b16c",
   "metadata": {
    "tags": [
     "raises-exception"
    ]
   },
   "outputs": [],
   "source": [
    "1 / 0"
   ]
  },
  {
   "cell_type": "markdown",
   "id": "41f31303",
   "metadata": {},
   "source": [
    "Here\\'s another"
   ]
  },
  {
   "cell_type": "code",
   "execution_count": null,
   "id": "c86d3536",
   "metadata": {
    "tags": [
     "raises-exception"
    ]
   },
   "outputs": [],
   "source": [
    "x1 = y1"
   ]
  },
  {
   "cell_type": "markdown",
   "id": "ed3bd941",
   "metadata": {},
   "source": [
    "And another"
   ]
  },
  {
   "cell_type": "code",
   "execution_count": null,
   "id": "51846d1a",
   "metadata": {
    "tags": [
     "raises-exception"
    ]
   },
   "outputs": [],
   "source": [
    "'foo' + 6"
   ]
  },
  {
   "cell_type": "markdown",
   "id": "bdf928ab",
   "metadata": {},
   "source": [
    "And another"
   ]
  },
  {
   "cell_type": "code",
   "execution_count": null,
   "id": "5ab730e3",
   "metadata": {
    "tags": [
     "raises-exception"
    ]
   },
   "outputs": [],
   "source": [
    "X = []\n",
    "x = X[0]"
   ]
  },
  {
   "cell_type": "markdown",
   "id": "4735fccf",
   "metadata": {},
   "source": [
    "On each occasion, the interpreter informs us of the error type\n",
    "\n",
    "-   `NameError`, `TypeError`, `IndexError`, `ZeroDivisionError`, etc.\n",
    "\n",
    "In Python, these errors are called *exceptions*.\n",
    "\n",
    "#### Catching Exceptions\n",
    "\n",
    "We can catch and deal with exceptions using `try` -- `except` blocks.\n",
    "\n",
    "Here\\'s a simple example"
   ]
  },
  {
   "cell_type": "code",
   "execution_count": null,
   "id": "8db02edc",
   "metadata": {},
   "outputs": [],
   "source": [
    "def f(x):\n",
    "    try:\n",
    "        return 1.0 / x\n",
    "    except ZeroDivisionError:\n",
    "        print('Error: division by zero.  Returned None')\n",
    "    return None"
   ]
  },
  {
   "cell_type": "markdown",
   "id": "afcf92fb",
   "metadata": {},
   "source": [
    "When we call `f` we get the following output"
   ]
  },
  {
   "cell_type": "code",
   "execution_count": null,
   "id": "f284713b",
   "metadata": {},
   "outputs": [],
   "source": [
    "f(2)"
   ]
  },
  {
   "cell_type": "code",
   "execution_count": null,
   "id": "7cc880b1",
   "metadata": {},
   "outputs": [],
   "source": [
    "f(0)"
   ]
  },
  {
   "cell_type": "code",
   "execution_count": null,
   "id": "c125f0a5",
   "metadata": {},
   "outputs": [],
   "source": [
    "f(0.0)"
   ]
  },
  {
   "cell_type": "markdown",
   "id": "4b783467",
   "metadata": {},
   "source": [
    "The error is caught and execution of the program is not terminated.\n",
    "\n",
    "Note that other error types are not caught.\n",
    "\n",
    "If we are worried the user might pass in a string, we can catch that\n",
    "error too"
   ]
  },
  {
   "cell_type": "code",
   "execution_count": null,
   "id": "a2a74ebc",
   "metadata": {},
   "outputs": [],
   "source": [
    "def f(x):\n",
    "    try:\n",
    "        return 1.0 / x\n",
    "    except ZeroDivisionError:\n",
    "        print('Error: Division by zero.  Returned None')\n",
    "    except TypeError:\n",
    "        print('Error: Unsupported operation.  Returned None')\n",
    "    return None"
   ]
  },
  {
   "cell_type": "markdown",
   "id": "3cf1b2a7",
   "metadata": {},
   "source": [
    "Here\\'s what happens"
   ]
  },
  {
   "cell_type": "code",
   "execution_count": null,
   "id": "ca639b53",
   "metadata": {},
   "outputs": [],
   "source": [
    "f(2)"
   ]
  },
  {
   "cell_type": "code",
   "execution_count": null,
   "id": "9b7f450e",
   "metadata": {},
   "outputs": [],
   "source": [
    "f(0)"
   ]
  },
  {
   "cell_type": "code",
   "execution_count": null,
   "id": "d751f79f",
   "metadata": {},
   "outputs": [],
   "source": [
    "f('foo')"
   ]
  },
  {
   "cell_type": "markdown",
   "id": "6dae5d32",
   "metadata": {},
   "source": [
    "If we feel lazy we can catch these errors together"
   ]
  },
  {
   "cell_type": "code",
   "execution_count": null,
   "id": "2e2b327d",
   "metadata": {},
   "outputs": [],
   "source": [
    "def f(x):\n",
    "    try:\n",
    "        return 1.0 / x\n",
    "    except (TypeError, ZeroDivisionError):\n",
    "        print('Error: Unsupported operation.  Returned None')\n",
    "    return None"
   ]
  },
  {
   "cell_type": "markdown",
   "id": "d444bed9",
   "metadata": {},
   "source": [
    "Here\\'s what happens"
   ]
  },
  {
   "cell_type": "code",
   "execution_count": null,
   "id": "1aec88c6",
   "metadata": {},
   "outputs": [],
   "source": [
    "f(2)"
   ]
  },
  {
   "cell_type": "code",
   "execution_count": null,
   "id": "f1be8eea",
   "metadata": {},
   "outputs": [],
   "source": [
    "f(0)"
   ]
  },
  {
   "cell_type": "code",
   "execution_count": null,
   "id": "344bbef7",
   "metadata": {},
   "outputs": [],
   "source": [
    "f('foo')"
   ]
  },
  {
   "cell_type": "markdown",
   "id": "5aed2dfb",
   "metadata": {},
   "source": [
    "If we feel extra lazy we can catch all error types as follows"
   ]
  },
  {
   "cell_type": "code",
   "execution_count": null,
   "id": "5def662a",
   "metadata": {},
   "outputs": [],
   "source": [
    "def f(x):\n",
    "    try:\n",
    "        return 1.0 / x\n",
    "    except:\n",
    "        print('Error.  Returned None')\n",
    "    return None"
   ]
  },
  {
   "cell_type": "markdown",
   "id": "552c16a3",
   "metadata": {},
   "source": [
    "In general it\\'s better to be specific.\n",
    "\n",
    "## Decorators and Descriptors\n",
    "\n",
    "Let\\'s look at some special syntax elements that are routinely used by\n",
    "Python developers.\n",
    "\n",
    "You might not need the following concepts immediately, but you will see\n",
    "them in other people\\'s code.\n",
    "\n",
    "Hence you need to understand them at some stage of your Python\n",
    "education.\n",
    "\n",
    "### Decorators\n",
    "\n",
    "Decorators are a bit of syntactic sugar that, while easily avoided, have\n",
    "turned out to be popular.\n",
    "\n",
    "It\\'s very easy to say what decorators do.\n",
    "\n",
    "On the other hand it takes a bit of effort to explain *why* you might\n",
    "use them.\n",
    "\n",
    "#### An Example\n",
    "\n",
    "Suppose we are working on a program that looks something like this"
   ]
  },
  {
   "cell_type": "code",
   "execution_count": null,
   "id": "7498321e",
   "metadata": {},
   "outputs": [],
   "source": [
    "import numpy as np\n",
    "\n",
    "def f(x):\n",
    "    return np.log(np.log(x))\n",
    "\n",
    "def g(x):\n",
    "    return np.sqrt(42 * x)\n",
    "\n",
    "# Program continues with various calculations using f and g"
   ]
  },
  {
   "cell_type": "markdown",
   "id": "57f96246",
   "metadata": {},
   "source": [
    "Now suppose there\\'s a problem: occasionally negative numbers get fed to\n",
    "`f` and `g` in the calculations that follow.\n",
    "\n",
    "If you try it, you\\'ll see that when these functions are called with\n",
    "negative numbers they return a NumPy object called `nan` .\n",
    "\n",
    "This stands for \\\"not a number\\\" (and indicates that you are trying to\n",
    "evaluate a mathematical function at a point where it is not defined).\n",
    "\n",
    "Perhaps this isn\\'t what we want, because it causes other problems that\n",
    "are hard to pick up later on.\n",
    "\n",
    "Suppose that instead we want the program to terminate whenever this\n",
    "happens, with a sensible error message.\n",
    "\n",
    "This change is easy enough to implement"
   ]
  },
  {
   "cell_type": "code",
   "execution_count": null,
   "id": "07ca766f",
   "metadata": {},
   "outputs": [],
   "source": [
    "import numpy as np\n",
    "\n",
    "def f(x):\n",
    "    assert x >= 0, \"Argument must be nonnegative\"\n",
    "    return np.log(np.log(x))\n",
    "\n",
    "def g(x):\n",
    "    assert x >= 0, \"Argument must be nonnegative\"\n",
    "    return np.sqrt(42 * x)\n",
    "\n",
    "# Program continues with various calculations using f and g"
   ]
  },
  {
   "cell_type": "markdown",
   "id": "8f857327",
   "metadata": {},
   "source": [
    "Notice however that there is some repetition here, in the form of two\n",
    "identical lines of code.\n",
    "\n",
    "Repetition makes our code longer and harder to maintain, and hence is\n",
    "something we try hard to avoid.\n",
    "\n",
    "Here it\\'s not a big deal, but imagine now that instead of just `f` and\n",
    "`g`, we have 20 such functions that we need to modify in exactly the\n",
    "same way.\n",
    "\n",
    "This means we need to repeat the test logic (i.e., the `assert` line\n",
    "testing nonnegativity) 20 times.\n",
    "\n",
    "The situation is still worse if the test logic is longer and more\n",
    "complicated.\n",
    "\n",
    "In this kind of scenario the following approach would be neater"
   ]
  },
  {
   "cell_type": "code",
   "execution_count": null,
   "id": "233de341",
   "metadata": {},
   "outputs": [],
   "source": [
    "import numpy as np\n",
    "\n",
    "def check_nonneg(func):\n",
    "    def safe_function(x):\n",
    "        assert x >= 0, \"Argument must be nonnegative\"\n",
    "        return func(x)\n",
    "    return safe_function\n",
    "\n",
    "def f(x):\n",
    "    return np.log(np.log(x))\n",
    "\n",
    "def g(x):\n",
    "    return np.sqrt(42 * x)\n",
    "\n",
    "f = check_nonneg(f)\n",
    "g = check_nonneg(g)\n",
    "# Program continues with various calculations using f and g"
   ]
  },
  {
   "cell_type": "markdown",
   "id": "13c6fde8",
   "metadata": {},
   "source": [
    "This looks complicated so let\\'s work through it slowly.\n",
    "\n",
    "To unravel the logic, consider what happens when we say\n",
    "`f = check_nonneg(f)`.\n",
    "\n",
    "This calls the function `check_nonneg` with parameter `func` set equal\n",
    "to `f`.\n",
    "\n",
    "Now `check_nonneg` creates a new function called `safe_function` that\n",
    "verifies `x` as nonnegative and then calls `func` on it (which is the\n",
    "same as `f`).\n",
    "\n",
    "Finally, the global name `f` is then set equal to `safe_function`.\n",
    "\n",
    "Now the behavior of `f` is as we desire, and the same is true of `g`.\n",
    "\n",
    "At the same time, the test logic is written only once.\n",
    "\n",
    "#### Enter Decorators\n",
    "\n",
    "The last version of our code is still not ideal.\n",
    "\n",
    "For example, if someone is reading our code and wants to know how `f`\n",
    "works, they will be looking for the function definition, which is"
   ]
  },
  {
   "cell_type": "code",
   "execution_count": null,
   "id": "a7505f4b",
   "metadata": {},
   "outputs": [],
   "source": [
    "def f(x):\n",
    "    return np.log(np.log(x))"
   ]
  },
  {
   "cell_type": "markdown",
   "id": "6f9c6fcb",
   "metadata": {},
   "source": [
    "They may well miss the line `f = check_nonneg(f)`.\n",
    "\n",
    "For this and other reasons, decorators were introduced to Python.\n",
    "\n",
    "With decorators, we can replace the lines"
   ]
  },
  {
   "cell_type": "code",
   "execution_count": null,
   "id": "ae90e9a1",
   "metadata": {},
   "outputs": [],
   "source": [
    "def f(x):\n",
    "    return np.log(np.log(x))\n",
    "\n",
    "def g(x):\n",
    "    return np.sqrt(42 * x)\n",
    "\n",
    "f = check_nonneg(f)\n",
    "g = check_nonneg(g)"
   ]
  },
  {
   "cell_type": "markdown",
   "id": "7808aa41",
   "metadata": {},
   "source": [
    "with"
   ]
  },
  {
   "cell_type": "code",
   "execution_count": null,
   "id": "378909c6",
   "metadata": {},
   "outputs": [],
   "source": [
    "@check_nonneg\n",
    "def f(x):\n",
    "    return np.log(np.log(x))\n",
    "\n",
    "@check_nonneg\n",
    "def g(x):\n",
    "    return np.sqrt(42 * x)"
   ]
  },
  {
   "cell_type": "markdown",
   "id": "4981a83b",
   "metadata": {},
   "source": [
    "These two pieces of code do exactly the same thing.\n",
    "\n",
    "If they do the same thing, do we really need decorator syntax?\n",
    "\n",
    "Well, notice that the decorators sit right on top of the function\n",
    "definitions.\n",
    "\n",
    "Hence anyone looking at the definition of the function will see them and\n",
    "be aware that the function is modified.\n",
    "\n",
    "In the opinion of many people, this makes the decorator syntax a\n",
    "significant improvement to the language.\n",
    "\n",
    "### Descriptors\n",
    "\n",
    "Descriptors solve a common problem regarding management of variables.\n",
    "\n",
    "To understand the issue, consider a `Car` class, that simulates a car.\n",
    "\n",
    "Suppose that this class defines the variables `miles` and `kms`, which\n",
    "give the distance traveled in miles and kilometers respectively.\n",
    "\n",
    "A highly simplified version of the class might look as follows"
   ]
  },
  {
   "cell_type": "code",
   "execution_count": null,
   "id": "838e7849",
   "metadata": {},
   "outputs": [],
   "source": [
    "class Car:\n",
    "\n",
    "    def __init__(self, miles=1000):\n",
    "        self.miles = miles\n",
    "        self.kms = miles * 1.61\n",
    "\n",
    "    # Some other functionality, details omitted"
   ]
  },
  {
   "cell_type": "markdown",
   "id": "fc4b8422",
   "metadata": {},
   "source": [
    "One potential problem we might have here is that a user alters one of\n",
    "these variables but not the other"
   ]
  },
  {
   "cell_type": "code",
   "execution_count": null,
   "id": "14292052",
   "metadata": {},
   "outputs": [],
   "source": [
    "car = Car()\n",
    "car.miles"
   ]
  },
  {
   "cell_type": "code",
   "execution_count": null,
   "id": "ec674488",
   "metadata": {},
   "outputs": [],
   "source": [
    "car.kms"
   ]
  },
  {
   "cell_type": "code",
   "execution_count": null,
   "id": "9d8593dc",
   "metadata": {},
   "outputs": [],
   "source": [
    "car.miles = 6000\n",
    "car.kms"
   ]
  },
  {
   "cell_type": "markdown",
   "id": "23601678",
   "metadata": {},
   "source": [
    "In the last two lines we see that `miles` and `kms` are out of sync.\n",
    "\n",
    "What we really want is some mechanism whereby each time a user sets one\n",
    "of these variables, *the other is automatically updated*.\n",
    "\n",
    "#### A Solution\n",
    "\n",
    "In Python, this issue is solved using *descriptors*.\n",
    "\n",
    "A descriptor is just a Python object that implements certain methods.\n",
    "\n",
    "These methods are triggered when the object is accessed through dotted\n",
    "attribute notation.\n",
    "\n",
    "The best way to understand this is to see it in action.\n",
    "\n",
    "Consider this alternative version of the `Car` class"
   ]
  },
  {
   "cell_type": "code",
   "execution_count": null,
   "id": "fd91e5d4",
   "metadata": {},
   "outputs": [],
   "source": [
    "class Car:\n",
    "\n",
    "    def __init__(self, miles=1000):\n",
    "        self._miles = miles\n",
    "        self._kms = miles * 1.61\n",
    "\n",
    "    def set_miles(self, value):\n",
    "        self._miles = value\n",
    "        self._kms = value * 1.61\n",
    "\n",
    "    def set_kms(self, value):\n",
    "        self._kms = value\n",
    "        self._miles = value / 1.61\n",
    "\n",
    "    def get_miles(self):\n",
    "        return self._miles\n",
    "\n",
    "    def get_kms(self):\n",
    "        return self._kms\n",
    "\n",
    "    miles = property(get_miles, set_miles)\n",
    "    kms = property(get_kms, set_kms)"
   ]
  },
  {
   "cell_type": "markdown",
   "id": "e1b68098",
   "metadata": {},
   "source": [
    "First let\\'s check that we get the desired behavior"
   ]
  },
  {
   "cell_type": "code",
   "execution_count": null,
   "id": "6eb3e1fc",
   "metadata": {},
   "outputs": [],
   "source": [
    "car = Car()\n",
    "car.miles"
   ]
  },
  {
   "cell_type": "code",
   "execution_count": null,
   "id": "49c1b57d",
   "metadata": {},
   "outputs": [],
   "source": [
    "car.miles = 6000\n",
    "car.kms"
   ]
  },
  {
   "cell_type": "markdown",
   "id": "5016bc93",
   "metadata": {},
   "source": [
    "Yep, that\\'s what we want --- `car.kms` is automatically updated.\n",
    "\n",
    "#### How it Works\n",
    "\n",
    "The names `_miles` and `_kms` are arbitrary names we are using to store\n",
    "the values of the variables.\n",
    "\n",
    "The objects `miles` and `kms` are *properties*, a common kind of\n",
    "descriptor.\n",
    "\n",
    "The methods `get_miles`, `set_miles`, `get_kms` and `set_kms` define\n",
    "what happens when you get (i.e. access) or set (bind) these variables\n",
    "\n",
    "-   So-called \\\"getter\\\" and \\\"setter\\\" methods.\n",
    "\n",
    "The builtin Python function `property` takes getter and setter methods\n",
    "and creates a property.\n",
    "\n",
    "For example, after `car` is created as an instance of `Car`, the object\n",
    "`car.miles` is a property.\n",
    "\n",
    "Being a property, when we set its value via `car.miles = 6000` its\n",
    "setter method is triggered --- in this case `set_miles`.\n",
    "\n",
    "#### Decorators and Properties\n",
    "\n",
    "These days its very common to see the `property` function used via a\n",
    "decorator.\n",
    "\n",
    "Here\\'s another version of our `Car` class that works as before but now\n",
    "uses decorators to set up the properties"
   ]
  },
  {
   "cell_type": "code",
   "execution_count": null,
   "id": "3bafe4d6",
   "metadata": {},
   "outputs": [],
   "source": [
    "class Car:\n",
    "\n",
    "    def __init__(self, miles=1000):\n",
    "        self._miles = miles\n",
    "        self._kms = miles * 1.61\n",
    "\n",
    "    @property\n",
    "    def miles(self):\n",
    "        return self._miles\n",
    "\n",
    "    @property\n",
    "    def kms(self):\n",
    "        return self._kms\n",
    "\n",
    "    @miles.setter\n",
    "    def miles(self, value):\n",
    "        self._miles = value\n",
    "        self._kms = value * 1.61\n",
    "\n",
    "    @kms.setter\n",
    "    def kms(self, value):\n",
    "        self._kms = value\n",
    "        self._miles = value / 1.61"
   ]
  },
  {
   "cell_type": "markdown",
   "id": "a0b6c13b",
   "metadata": {},
   "source": [
    "We won\\'t go through all the details here.\n",
    "\n",
    "For further information you can refer to the [descriptor documentation](https://docs.python.org/3/howto/descriptor.html).\n",
    "\n",
    "(paf_generators)=\n",
    "\n",
    "## Generators\n",
    "\n",
    "A generator is a kind of iterator (i.e., it works with a `next`\n",
    "function).\n",
    "\n",
    "We will study two ways to build generators: generator expressions and\n",
    "generator functions.\n",
    "\n",
    "### Generator Expressions\n",
    "\n",
    "The easiest way to build generators is using *generator expressions*.\n",
    "\n",
    "Just like a list comprehension, but with round brackets.\n",
    "\n",
    "Here is the list comprehension:"
   ]
  },
  {
   "cell_type": "code",
   "execution_count": null,
   "id": "1ef88cc6",
   "metadata": {},
   "outputs": [],
   "source": [
    "singular = ('dog', 'cat', 'bird')\n",
    "type(singular)"
   ]
  },
  {
   "cell_type": "code",
   "execution_count": null,
   "id": "9fcdc4e2",
   "metadata": {},
   "outputs": [],
   "source": [
    "plural = [string + 's' for string in singular]\n",
    "plural"
   ]
  },
  {
   "cell_type": "code",
   "execution_count": null,
   "id": "2221c6c9",
   "metadata": {},
   "outputs": [],
   "source": [
    "type(plural)"
   ]
  },
  {
   "cell_type": "markdown",
   "id": "3a738f33",
   "metadata": {},
   "source": [
    "And here is the generator expression"
   ]
  },
  {
   "cell_type": "code",
   "execution_count": null,
   "id": "ae5fcbf3",
   "metadata": {},
   "outputs": [],
   "source": [
    "singular = ('dog', 'cat', 'bird')\n",
    "plural = (string + 's' for string in singular)\n",
    "type(plural)"
   ]
  },
  {
   "cell_type": "code",
   "execution_count": null,
   "id": "fd6eaeef",
   "metadata": {},
   "outputs": [],
   "source": [
    "next(plural)"
   ]
  },
  {
   "cell_type": "code",
   "execution_count": null,
   "id": "6982d252",
   "metadata": {},
   "outputs": [],
   "source": [
    "next(plural)"
   ]
  },
  {
   "cell_type": "code",
   "execution_count": null,
   "id": "fa7ec514",
   "metadata": {},
   "outputs": [],
   "source": [
    "next(plural)"
   ]
  },
  {
   "cell_type": "markdown",
   "id": "8febbe01",
   "metadata": {},
   "source": [
    "Since `sum()` can be called on iterators, we can do this"
   ]
  },
  {
   "cell_type": "code",
   "execution_count": null,
   "id": "34c41a5b",
   "metadata": {},
   "outputs": [],
   "source": [
    "sum((x * x for x in range(10)))"
   ]
  },
  {
   "cell_type": "markdown",
   "id": "3f908def",
   "metadata": {},
   "source": [
    "The function `sum()` calls `next()` to get the items, adds successive\n",
    "terms.\n",
    "\n",
    "In fact, we can omit the outer brackets in this case"
   ]
  },
  {
   "cell_type": "code",
   "execution_count": null,
   "id": "71115fcb",
   "metadata": {},
   "outputs": [],
   "source": [
    "sum(x * x for x in range(10))"
   ]
  },
  {
   "cell_type": "markdown",
   "id": "6780e36a",
   "metadata": {},
   "source": [
    "### Generator Functions\n",
    "\n",
    "The most flexible way to create generator objects is to use generator\n",
    "functions.\n",
    "\n",
    "Let\\'s look at some examples.\n",
    "\n",
    "#### Example 1\n",
    "\n",
    "Here\\'s a very simple example of a generator function"
   ]
  },
  {
   "cell_type": "code",
   "execution_count": null,
   "id": "d77cb7ce",
   "metadata": {},
   "outputs": [],
   "source": [
    "def f():\n",
    "    yield 'start'\n",
    "    yield 'middle'\n",
    "    yield 'end'"
   ]
  },
  {
   "cell_type": "markdown",
   "id": "da250370",
   "metadata": {},
   "source": [
    "It looks like a function, but uses a keyword `yield` that we haven\\'t\n",
    "met before.\n",
    "\n",
    "Let\\'s see how it works after running this code"
   ]
  },
  {
   "cell_type": "code",
   "execution_count": null,
   "id": "829e6700",
   "metadata": {},
   "outputs": [],
   "source": [
    "type(f)"
   ]
  },
  {
   "cell_type": "code",
   "execution_count": null,
   "id": "caf5fab8",
   "metadata": {},
   "outputs": [],
   "source": [
    "gen = f()\n",
    "gen"
   ]
  },
  {
   "cell_type": "code",
   "execution_count": null,
   "id": "f849dab6",
   "metadata": {},
   "outputs": [],
   "source": [
    "next(gen)"
   ]
  },
  {
   "cell_type": "code",
   "execution_count": null,
   "id": "a23c84ae",
   "metadata": {},
   "outputs": [],
   "source": [
    "next(gen)"
   ]
  },
  {
   "cell_type": "code",
   "execution_count": null,
   "id": "46340066",
   "metadata": {},
   "outputs": [],
   "source": [
    "next(gen)"
   ]
  },
  {
   "cell_type": "code",
   "execution_count": null,
   "id": "fc28ab1e",
   "metadata": {
    "tags": [
     "raises-exception"
    ]
   },
   "outputs": [],
   "source": [
    "next(gen)"
   ]
  },
  {
   "cell_type": "markdown",
   "id": "e49ccb35",
   "metadata": {},
   "source": [
    "The generator function `f()` is used to create generator objects (in\n",
    "this case `gen`).\n",
    "\n",
    "Generators are iterators, because they support a `next` method.\n",
    "\n",
    "The first call to `next(gen)`\n",
    "\n",
    "-   Executes code in the body of `f()` until it meets a `yield`\n",
    "    statement.\n",
    "-   Returns that value to the caller of `next(gen)`.\n",
    "\n",
    "The second call to `next(gen)` starts executing *from the next line*"
   ]
  },
  {
   "cell_type": "code",
   "execution_count": null,
   "id": "304db8e1",
   "metadata": {},
   "outputs": [],
   "source": [
    "def f():\n",
    "    yield 'start'\n",
    "    yield 'middle'  # This line!\n",
    "    yield 'end'"
   ]
  },
  {
   "cell_type": "markdown",
   "id": "317c7ed4",
   "metadata": {},
   "source": [
    "and continues until the next `yield` statement.\n",
    "\n",
    "At that point it returns the value following `yield` to the caller of\n",
    "`next(gen)`, and so on.\n",
    "\n",
    "When the code block ends, the generator throws a `StopIteration` error.\n",
    "\n",
    "#### Example 2\n",
    "\n",
    "Our next example receives an argument `x` from the caller"
   ]
  },
  {
   "cell_type": "code",
   "execution_count": null,
   "id": "3529c7cf",
   "metadata": {},
   "outputs": [],
   "source": [
    "def g(x):\n",
    "    while x < 100:\n",
    "        yield x\n",
    "        x = x * x"
   ]
  },
  {
   "cell_type": "markdown",
   "id": "6ff9f0e8",
   "metadata": {},
   "source": [
    "Let\\'s see how it works"
   ]
  },
  {
   "cell_type": "code",
   "execution_count": null,
   "id": "fbf0ef6d",
   "metadata": {},
   "outputs": [],
   "source": [
    "g"
   ]
  },
  {
   "cell_type": "code",
   "execution_count": null,
   "id": "f0d11712",
   "metadata": {},
   "outputs": [],
   "source": [
    "gen = g(2)\n",
    "type(gen)"
   ]
  },
  {
   "cell_type": "code",
   "execution_count": null,
   "id": "bb3b1e04",
   "metadata": {},
   "outputs": [],
   "source": [
    "next(gen)"
   ]
  },
  {
   "cell_type": "code",
   "execution_count": null,
   "id": "4832c32e",
   "metadata": {},
   "outputs": [],
   "source": [
    "next(gen)"
   ]
  },
  {
   "cell_type": "code",
   "execution_count": null,
   "id": "c84275d6",
   "metadata": {},
   "outputs": [],
   "source": [
    "next(gen)"
   ]
  },
  {
   "cell_type": "code",
   "execution_count": null,
   "id": "cb1533e9",
   "metadata": {
    "tags": [
     "raises-exception"
    ]
   },
   "outputs": [],
   "source": [
    "next(gen)"
   ]
  },
  {
   "cell_type": "markdown",
   "id": "0b0160f7",
   "metadata": {},
   "source": [
    "The call `gen = g(2)` binds `gen` to a generator.\n",
    "\n",
    "Inside the generator, the name `x` is bound to `2`.\n",
    "\n",
    "When we call `next(gen)`\n",
    "\n",
    "-   The body of `g()` executes until the line `yield x`, and the value\n",
    "    of `x` is returned.\n",
    "\n",
    "Note that value of `x` is retained inside the generator.\n",
    "\n",
    "When we call `next(gen)` again, execution continues *from where it left\n",
    "off*"
   ]
  },
  {
   "cell_type": "code",
   "execution_count": null,
   "id": "a5884863",
   "metadata": {},
   "outputs": [],
   "source": [
    "def g(x):\n",
    "    while x < 100:\n",
    "        yield x\n",
    "        x = x * x  # execution continues from here"
   ]
  },
  {
   "cell_type": "markdown",
   "id": "7b497be4",
   "metadata": {},
   "source": [
    "When `x < 100` fails, the generator throws a `StopIteration` error.\n",
    "\n",
    "Incidentally, the loop inside the generator can be infinite"
   ]
  },
  {
   "cell_type": "code",
   "execution_count": null,
   "id": "e2b24790",
   "metadata": {},
   "outputs": [],
   "source": [
    "def g(x):\n",
    "    while 1:\n",
    "        yield x\n",
    "        x = x * x"
   ]
  },
  {
   "cell_type": "markdown",
   "id": "a550bf4b",
   "metadata": {},
   "source": [
    "### Advantages of Iterators\n",
    "\n",
    "What\\'s the advantage of using an iterator here?\n",
    "\n",
    "Suppose we want to sample a binomial(n,0.5).\n",
    "\n",
    "One way to do it is as follows"
   ]
  },
  {
   "cell_type": "code",
   "execution_count": null,
   "id": "ae01d80f",
   "metadata": {},
   "outputs": [],
   "source": [
    "import random\n",
    "n = 10000000\n",
    "draws = [random.uniform(0, 1) < 0.5 for i in range(n)]\n",
    "sum(draws)"
   ]
  },
  {
   "cell_type": "markdown",
   "id": "d48af3b7",
   "metadata": {},
   "source": [
    "But we are creating two huge lists here, `range(n)` and `draws`.\n",
    "\n",
    "This uses lots of memory and is very slow.\n",
    "\n",
    "If we make `n` even bigger then this happens\n",
    "\n",
    "```python\n",
    "n = 100000000\n",
    "draws = [random.uniform(0, 1) < 0.5 for i in range(n)]\n",
    "```\n",
    "\n",
    "We can avoid these problems using iterators.\n",
    "\n",
    "Here is the generator function"
   ]
  },
  {
   "cell_type": "code",
   "execution_count": null,
   "id": "d2a659ac",
   "metadata": {},
   "outputs": [],
   "source": [
    "def f(n):\n",
    "    i = 1\n",
    "    while i <= n:\n",
    "        yield random.uniform(0, 1) < 0.5\n",
    "        i += 1"
   ]
  },
  {
   "cell_type": "markdown",
   "id": "bd9973a3",
   "metadata": {},
   "source": [
    "Now let\\'s do the sum"
   ]
  },
  {
   "cell_type": "code",
   "execution_count": null,
   "id": "6b745653",
   "metadata": {},
   "outputs": [],
   "source": [
    "n = 10000000\n",
    "draws = f(n)\n",
    "draws"
   ]
  },
  {
   "cell_type": "code",
   "execution_count": null,
   "id": "7f6824b4",
   "metadata": {},
   "outputs": [],
   "source": [
    "sum(draws)"
   ]
  },
  {
   "cell_type": "markdown",
   "id": "283ad413",
   "metadata": {},
   "source": [
    "In summary, iterables\n",
    "\n",
    "-   avoid the need to create big lists/tuples, and\n",
    "-   provide a uniform interface to iteration that can be used\n",
    "    transparently in `for` loops\n",
    "\n",
    "(recursive_functions)=\n",
    "\n",
    "## Recursive Function Calls\n",
    "\n",
    "This is not something that you will use every day, but it is still\n",
    "useful --- you should learn it at some stage.\n",
    "\n",
    "Basically, a recursive function is a function that calls itself.\n",
    "\n",
    "For example, consider the problem of computing $x_t$ for some t when\n",
    "\n",
    "$$\n",
    "x_{t+1} = 2 x_t, \\quad x_0 = 1\n",
    "$$\n",
    "\n",
    "Obviously the answer is $2^t$.\n",
    "\n",
    "We can compute this easily enough with a loop"
   ]
  },
  {
   "cell_type": "code",
   "execution_count": null,
   "id": "72409eba",
   "metadata": {},
   "outputs": [],
   "source": [
    "def x_loop(t):\n",
    "    x = 1\n",
    "    for i in range(t):\n",
    "        x = 2 * x\n",
    "    return x"
   ]
  },
  {
   "cell_type": "markdown",
   "id": "a744953f",
   "metadata": {},
   "source": [
    "We can also use a recursive solution, as follows"
   ]
  },
  {
   "cell_type": "code",
   "execution_count": null,
   "id": "84ceb842",
   "metadata": {},
   "outputs": [],
   "source": [
    "def x(t):\n",
    "    if t == 0:\n",
    "        return 1\n",
    "    else:\n",
    "        return 2 * x(t-1)"
   ]
  },
  {
   "cell_type": "markdown",
   "id": "9b8007b4",
   "metadata": {},
   "source": [
    "What happens here is that each successive call uses it\\'s own *frame* in\n",
    "the *stack*\n",
    "\n",
    "-   a frame is where the local variables of a given function call are held\n",
    "-   stack is memory used to process function calls\n",
    "    -   a First In Last Out (FILO) queue\n",
    "\n",
    "This example is somewhat contrived, since the first (iterative) solution\n",
    "would usually be preferred to the recursive solution.\n",
    "\n",
    "We\\'ll meet less contrived applications of recursion later on.\n",
    "\n",
    "## Exercises\n",
    "\n",
    "### Exercise 1\n",
    "\n",
    "The Fibonacci numbers are defined by\n",
    "\n",
    "$$\n",
    "x_{t+1} = x_t + x_{t-1}, \\quad x_0 = 0, \\; x_1 = 1\n",
    "$$\n",
    "\n",
    "The first few numbers in the sequence are\n",
    "$0, 1, 1, 2, 3, 5, 8, 13, 21, 34, 55$.\n",
    "\n",
    "Write a function to recursively compute the $t$-th Fibonacci number for\n",
    "any $t$.\n",
    "\n",
    "### Exercise 2\n",
    "\n",
    "Complete the following code, and test it using [this csv\n",
    "file](https://raw.githubusercontent.com/QuantEcon/lecture-source-py/master/source/_static/lecture_specific/python_advanced_features/test_table.csv),\n",
    "which we assume that you\\'ve put in your current working directory\n",
    "\n",
    "```python\n",
    "def column_iterator(target_file, column_number):\n",
    "    \"\"\"A generator function for CSV files.\n",
    "    When called with a file name target_file (string) and column number\n",
    "    column_number (integer), the generator function returns a generator\n",
    "    that steps through the elements of column column_number in file\n",
    "    target_file.\n",
    "    \"\"\"\n",
    "    # put your code here\n",
    "\n",
    "dates = column_iterator('test_table.csv', 1)\n",
    "\n",
    "for date in dates:\n",
    "    print(date)\n",
    "```\n",
    "\n",
    "### Exercise 3\n",
    "\n",
    "Suppose we have a text file `numbers.txt` containing the following lines\n",
    "\n",
    "```{code-block} none\n",
    "prices\n",
    "3\n",
    "8\n",
    "\n",
    "7\n",
    "21\n",
    "```\n",
    "\n",
    "Using `try` -- `except`, write a program to read in the contents of the\n",
    "file and sum the numbers, ignoring lines without numbers.\n",
    "\n",
    "## Solutions\n",
    "\n",
    "### Exercise 1\n",
    "\n",
    "Here\\'s the standard solution"
   ]
  },
  {
   "cell_type": "code",
   "execution_count": null,
   "id": "837f9bab",
   "metadata": {},
   "outputs": [],
   "source": [
    "def x(t):\n",
    "    if t == 0:\n",
    "        return 0\n",
    "    if t == 1:\n",
    "        return 1\n",
    "    else:\n",
    "        return x(t-1) + x(t-2)"
   ]
  },
  {
   "cell_type": "markdown",
   "id": "3e8ba946",
   "metadata": {},
   "source": [
    "Let\\'s test it"
   ]
  },
  {
   "cell_type": "code",
   "execution_count": null,
   "id": "29735e54",
   "metadata": {},
   "outputs": [],
   "source": [
    "print([x(i) for i in range(10)])"
   ]
  },
  {
   "cell_type": "markdown",
   "id": "36fd2ebe",
   "metadata": {},
   "source": [
    "### Exercise 2\n",
    "\n",
    "One solution is as follows\n",
    "\n",
    "<!-- ```{code-cell} ipython3\n",
    "def column_iterator(target_file, column_number):\n",
    "    \"\"\"A generator function for CSV files.\n",
    "    When called with a file name target_file (string) and column number \n",
    "    column_number (integer), the generator function returns a generator \n",
    "    which steps through the elements of column column_number in file\n",
    "    target_file.\n",
    "    \"\"\"\n",
    "    f = open(target_file, 'r')\n",
    "    for line in f:\n",
    "        yield line.split(',')[column_number - 1]\n",
    "    f.close()\n",
    "\n",
    "dates = column_iterator('test_table.csv', 1) \n",
    "\n",
    "i = 1\n",
    "for date in dates:\n",
    "    print(date)\n",
    "    if i == 10:\n",
    "        break\n",
    "    i += 1\n",
    "``` -->\n",
    "\n",
    "### Exercise 3\n",
    "\n",
    "<!-- Let\\'s save the data first\n",
    "\n",
    "```{code-cell} ipython3\n",
    "%%file numbers.txt\n",
    "prices\n",
    "3\n",
    "8\n",
    "\n",
    "7\n",
    "21\n",
    "```\n",
    "\n",
    "```{code-cell} ipython3\n",
    "f = open('numbers.txt')\n",
    "\n",
    "total = 0.0 \n",
    "for line in f:\n",
    "    try:\n",
    "        total += float(line)\n",
    "    except ValueError:\n",
    "        pass\n",
    "\n",
    "f.close()\n",
    "\n",
    "print(total)\n",
    "``` -->"
   ]
  }
 ],
 "metadata": {
  "jupytext": {
   "text_representation": {
    "extension": ".md",
    "format_name": "myst"
   }
  },
  "kernelspec": {
   "display_name": "Python 3",
   "language": "python",
   "name": "python3"
  },
  "source_map": [
   10,
   89,
   94,
   96,
   167,
   170,
   176,
   181,
   185,
   196,
   201,
   206,
   210,
   214,
   218,
   224,
   228,
   244,
   249,
   254,
   256,
   260,
   266,
   270,
   280,
   282,
   301,
   309,
   311,
   324,
   329,
   331,
   342,
   344,
   465,
   467,
   558,
   563,
   567,
   569,
   583,
   587,
   589,
   593,
   595,
   600,
   604,
   606,
   640,
   647,
   723,
   730,
   748,
   755,
   811,
   816,
   853,
   857,
   861,
   865,
   869,
   873,
   877,
   882,
   896,
   903,
   907,
   911,
   915,
   917,
   926,
   935,
   939,
   943,
   947,
   949,
   953,
   960,
   964,
   968,
   972,
   974,
   978,
   985,
   1014,
   1024,
   1043,
   1055,
   1075,
   1093,
   1120,
   1123,
   1131,
   1140,
   1144,
   1152,
   1178,
   1186,
   1191,
   1196,
   1200,
   1203,
   1223,
   1246,
   1250,
   1255,
   1258,
   1292,
   1316,
   1340,
   1345,
   1350,
   1352,
   1356,
   1362,
   1366,
   1370,
   1372,
   1376,
   1378,
   1385,
   1387,
   1400,
   1405,
   1412,
   1416,
   1421,
   1425,
   1429,
   1433,
   1437,
   1452,
   1457,
   1470,
   1475,
   1479,
   1483,
   1488,
   1492,
   1496,
   1500,
   1504,
   1520,
   1525,
   1531,
   1536,
   1546,
   1551,
   1568,
   1574,
   1578,
   1584,
   1586,
   1613,
   1619,
   1623,
   1629,
   1703,
   1711,
   1715,
   1717
  ]
 },
 "nbformat": 4,
 "nbformat_minor": 5
}