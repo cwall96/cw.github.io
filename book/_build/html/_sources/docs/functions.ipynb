{
 "cells": [
  {
   "cell_type": "markdown",
   "id": "3be1e5f8",
   "metadata": {},
   "source": [
    "(functions)=\n",
    "\n",
    "# Functions\n",
    "\n",
    "## Overview\n",
    "\n",
    "One construct that\\'s extremely useful and provided by almost all\n",
    "programming languages is **functions**.\n",
    "\n",
    "We have already met several functions, such as\n",
    "\n",
    "-   the `sqrt()` function from NumPy and\n",
    "-   the built-in `print()` function\n",
    "\n",
    "In this lecture we\\'ll treat functions systematically and begin to learn\n",
    "just how useful and important they are.\n",
    "\n",
    "One of the things we will learn to do is build our own user-defined\n",
    "functions\n",
    "\n",
    "We will use the following imports."
   ]
  },
  {
   "cell_type": "code",
   "execution_count": null,
   "id": "1d438384",
   "metadata": {
    "tags": [
     "remove-output"
    ]
   },
   "outputs": [],
   "source": [
    "import numpy as np\n",
    "import matplotlib.pyplot as plt\n",
    "%matplotlib inline"
   ]
  },
  {
   "cell_type": "markdown",
   "id": "b0d9092f",
   "metadata": {},
   "source": [
    "## Function Basics\n",
    "\n",
    "A function is a named section of a program that implements a specific\n",
    "task.\n",
    "\n",
    "Many functions exist already and we can use them off the shelf.\n",
    "\n",
    "First we review these functions and then discuss how we can build our\n",
    "own.\n",
    "\n",
    "### Built-In Functions\n",
    "\n",
    "Python has a number of *built-in* functions that are available without\n",
    "`import`.\n",
    "\n",
    "We have already met some"
   ]
  },
  {
   "cell_type": "code",
   "execution_count": null,
   "id": "91c6c3ee",
   "metadata": {},
   "outputs": [],
   "source": [
    "max(19, 20)"
   ]
  },
  {
   "cell_type": "code",
   "execution_count": null,
   "id": "e5707369",
   "metadata": {},
   "outputs": [],
   "source": [
    "print('foobar')"
   ]
  },
  {
   "cell_type": "code",
   "execution_count": null,
   "id": "40bfd1f2",
   "metadata": {},
   "outputs": [],
   "source": [
    "str(22)"
   ]
  },
  {
   "cell_type": "code",
   "execution_count": null,
   "id": "bacd531f",
   "metadata": {},
   "outputs": [],
   "source": [
    "type(22)"
   ]
  },
  {
   "cell_type": "markdown",
   "id": "5808a2a1",
   "metadata": {},
   "source": [
    "Two more useful built-in functions are `any()` and `all()`"
   ]
  },
  {
   "cell_type": "code",
   "execution_count": null,
   "id": "131300fe",
   "metadata": {},
   "outputs": [],
   "source": [
    "bools = False, True, True\n",
    "all(bools)  # True if all are True and False otherwise"
   ]
  },
  {
   "cell_type": "code",
   "execution_count": null,
   "id": "c1129938",
   "metadata": {},
   "outputs": [],
   "source": [
    "any(bools)  # False if all are False and True otherwise"
   ]
  },
  {
   "cell_type": "markdown",
   "id": "bda8f1a5",
   "metadata": {},
   "source": [
    "The full list of Python built-ins is\n",
    "[here](https://docs.python.org/library/functions.html).\n",
    "\n",
    "### Third Party Functions\n",
    "\n",
    "If the built-in functions don\\'t cover what we need, we either need to\n",
    "import functions or create our own.\n",
    "\n",
    "Examples of importing and using functions were given in the\n",
    "{ref}`previous lecture <python_by_example>`\n",
    "\n",
    "Here\\'s another one, which tests whether a given year is a leap year:"
   ]
  },
  {
   "cell_type": "code",
   "execution_count": null,
   "id": "d83ce22c",
   "metadata": {},
   "outputs": [],
   "source": [
    "import calendar\n",
    "\n",
    "calendar.isleap(2020)"
   ]
  },
  {
   "cell_type": "markdown",
   "id": "7746a46a",
   "metadata": {},
   "source": [
    "## Defining Functions\n",
    "\n",
    "In many instances, it is useful to be able to define our own functions.\n",
    "\n",
    "This will become clearer as you see more examples.\n",
    "\n",
    "Let\\'s start by discussing how it\\'s done.\n",
    "\n",
    "### Syntax\n",
    "\n",
    "Here\\'s a very simple Python function, that implements the mathematical\n",
    "function $f(x) = 2 x + 1$"
   ]
  },
  {
   "cell_type": "code",
   "execution_count": null,
   "id": "5048ea52",
   "metadata": {},
   "outputs": [],
   "source": [
    "def f(x):\n",
    "    return 2 * x + 1"
   ]
  },
  {
   "cell_type": "markdown",
   "id": "4893c020",
   "metadata": {},
   "source": [
    "Now that we\\'ve *defined* this function, let\\'s *call* it and check\n",
    "whether it does what we expect:"
   ]
  },
  {
   "cell_type": "code",
   "execution_count": null,
   "id": "df4ea677",
   "metadata": {},
   "outputs": [],
   "source": [
    "f(1)"
   ]
  },
  {
   "cell_type": "code",
   "execution_count": null,
   "id": "c2890a34",
   "metadata": {},
   "outputs": [],
   "source": [
    "f(10)"
   ]
  },
  {
   "cell_type": "markdown",
   "id": "d36f74f9",
   "metadata": {},
   "source": [
    "Here\\'s a longer function, that computes the absolute value of a given\n",
    "number.\n",
    "\n",
    "(Such a function already exists as a built-in, but let\\'s write our own\n",
    "for the exercise.)"
   ]
  },
  {
   "cell_type": "code",
   "execution_count": null,
   "id": "75fd9050",
   "metadata": {},
   "outputs": [],
   "source": [
    "def new_abs_function(x):\n",
    "\n",
    "    if x < 0:\n",
    "        abs_value = -x\n",
    "    else:\n",
    "        abs_value = x\n",
    "\n",
    "    return abs_value"
   ]
  },
  {
   "cell_type": "markdown",
   "id": "94f6470d",
   "metadata": {},
   "source": [
    "Let\\'s review the syntax here.\n",
    "\n",
    "-   `def` is a Python keyword used to start function definitions.\n",
    "-   `def new_abs_function(x):` indicates that the function is called\n",
    "    `new_abs_function` and that it has a single argument `x`.\n",
    "-   The indented code is a code block called the *function body*.\n",
    "-   The `return` keyword indicates that `abs_value` is the object that\n",
    "    should be returned to the calling code.\n",
    "\n",
    "This whole function definition is read by the Python interpreter and\n",
    "stored in memory.\n",
    "\n",
    "Let\\'s call it to check that it works:"
   ]
  },
  {
   "cell_type": "code",
   "execution_count": null,
   "id": "70eb618b",
   "metadata": {},
   "outputs": [],
   "source": [
    "print(new_abs_function(3))\n",
    "print(new_abs_function(-3))"
   ]
  },
  {
   "cell_type": "markdown",
   "id": "a53a57bc",
   "metadata": {},
   "source": [
    "### Why Write Functions?\n",
    "\n",
    "User-defined functions are important for improving the clarity of your\n",
    "code by\n",
    "\n",
    "-   separating different strands of logic\n",
    "-   facilitating code reuse\n",
    "\n",
    "(Writing the same thing twice is [almost always a bad\n",
    "idea](https://en.wikipedia.org/wiki/Don%27t_repeat_yourself))\n",
    "\n",
    "We will say more about this\n",
    "{ref}`later <writing_good_code>`.\n",
    "\n",
    "## Applications\n",
    "\n",
    "### Random Draws\n",
    "\n",
    "Consider again this code from the\n",
    "{ref}`previous lecture <python_by_example>`"
   ]
  },
  {
   "cell_type": "code",
   "execution_count": null,
   "id": "39cd0847",
   "metadata": {},
   "outputs": [],
   "source": [
    "ts_length = 100\n",
    "ϵ_values = []   # empty list\n",
    "\n",
    "for i in range(ts_length):\n",
    "    e = np.random.randn()\n",
    "    ϵ_values.append(e)\n",
    "\n",
    "plt.plot(ϵ_values)\n",
    "plt.show()"
   ]
  },
  {
   "cell_type": "markdown",
   "id": "4476fd09",
   "metadata": {},
   "source": [
    "We will break this program into two parts:\n",
    "\n",
    "1.  A user-defined function that generates a list of random variables.\n",
    "2.  The main part of the program that\n",
    "    1.  calls this function to get data\n",
    "    2.  plots the data\n",
    "\n",
    "This is accomplished in the next program\n",
    "\n",
    "(funcloopprog)="
   ]
  },
  {
   "cell_type": "code",
   "execution_count": null,
   "id": "2e1234cd",
   "metadata": {},
   "outputs": [],
   "source": [
    "def generate_data(n):\n",
    "    ϵ_values = []\n",
    "    for i in range(n):\n",
    "        e = np.random.randn()\n",
    "        ϵ_values.append(e)\n",
    "    return ϵ_values\n",
    "\n",
    "data = generate_data(100)\n",
    "plt.plot(data)\n",
    "plt.show()"
   ]
  },
  {
   "cell_type": "markdown",
   "id": "ea298c43",
   "metadata": {},
   "source": [
    "When the interpreter gets to the expression `generate_data(100)`, it\n",
    "executes the function body with `n` set equal to 100.\n",
    "\n",
    "The net result is that the name `data` is *bound* to the list `ϵ_values`\n",
    "returned by the function.\n",
    "\n",
    "### Adding Conditions\n",
    "\n",
    "Our function `generate_data()` is rather limited.\n",
    "\n",
    "Let\\'s make it slightly more useful by giving it the ability to return\n",
    "either standard normals or uniform random variables on $(0, 1)$ as\n",
    "required.\n",
    "\n",
    "This is achieved in the next piece of code.\n",
    "\n",
    "(funcloopprog2)="
   ]
  },
  {
   "cell_type": "code",
   "execution_count": null,
   "id": "7b949604",
   "metadata": {},
   "outputs": [],
   "source": [
    "def generate_data(n, generator_type):\n",
    "    ϵ_values = []\n",
    "    for i in range(n):\n",
    "        if generator_type == 'U':\n",
    "            e = np.random.uniform(0, 1)\n",
    "        else:\n",
    "            e = np.random.randn()\n",
    "        ϵ_values.append(e)\n",
    "    return ϵ_values\n",
    "\n",
    "data = generate_data(100, 'U')\n",
    "plt.plot(data)\n",
    "plt.show()"
   ]
  },
  {
   "cell_type": "markdown",
   "id": "cf6aeff8",
   "metadata": {},
   "source": [
    "Hopefully, the syntax of the if/else clause is self-explanatory, with\n",
    "indentation again delimiting the extent of the code blocks.\n",
    "\n",
    "```{note}\n",
    "-   We are passing the argument `U` as a string, which is why we write it as `'U'`.\n",
    "-   Notice that equality is tested with the `==` syntax, not `=`.\n",
    "    -   For example, the statement `a = 10` assigns the name `a` to the value `10`.\n",
    "    -   The expression `a == 10` evaluates to either `True` or `False`, depending on the value of `a`.\n",
    "```\n",
    "\n",
    "Now, there are several ways that we can simplify the code above.\n",
    "\n",
    "For example, we can get rid of the conditionals all together by just\n",
    "passing the desired generator type *as a function*.\n",
    "\n",
    "To understand this, consider the following version.\n",
    "\n",
    "(test_program_6)="
   ]
  },
  {
   "cell_type": "code",
   "execution_count": null,
   "id": "2be96b84",
   "metadata": {},
   "outputs": [],
   "source": [
    "def generate_data(n, generator_type):\n",
    "    ϵ_values = []\n",
    "    for i in range(n):\n",
    "        e = generator_type()\n",
    "        ϵ_values.append(e)\n",
    "    return ϵ_values\n",
    "\n",
    "data = generate_data(100, np.random.uniform)\n",
    "plt.plot(data)\n",
    "plt.show()"
   ]
  },
  {
   "cell_type": "markdown",
   "id": "62aebe74",
   "metadata": {},
   "source": [
    "Now, when we call the function `generate_data()`, we pass\n",
    "`np.random.uniform` as the second argument.\n",
    "\n",
    "This object is a *function*.\n",
    "\n",
    "When the function call `generate_data(100, np.random.uniform)` is\n",
    "executed, Python runs the function code block with `n` equal to 100 and\n",
    "the name `generator_type` \\\"bound\\\" to the function `np.random.uniform`.\n",
    "\n",
    "-   While these lines are executed, the names `generator_type` and\n",
    "    `np.random.uniform` are \\\"synonyms\\\", and can be used in identical\n",
    "    ways.\n",
    "\n",
    "This principle works more generally---for example, consider the\n",
    "following piece of code"
   ]
  },
  {
   "cell_type": "code",
   "execution_count": null,
   "id": "9c71c02a",
   "metadata": {},
   "outputs": [],
   "source": [
    "max(7, 2, 4)   # max() is a built-in Python function"
   ]
  },
  {
   "cell_type": "code",
   "execution_count": null,
   "id": "f1d51ff3",
   "metadata": {},
   "outputs": [],
   "source": [
    "m = max\n",
    "m(7, 2, 4)"
   ]
  },
  {
   "cell_type": "markdown",
   "id": "08e73882",
   "metadata": {},
   "source": [
    "Here we created another name for the built-in function `max()`, which\n",
    "could then be used in identical ways.\n",
    "\n",
    "In the context of our program, the ability to bind new names to\n",
    "functions means that there is no problem \\*passing a function as an\n",
    "argument to another function\\*---as we did above.\n",
    "\n",
    "## Exercises\n",
    "\n",
    "### Exercise 1\n",
    "\n",
    "Recall that $n!$ is read as \\\"$n$ factorial\\\" and defined as\n",
    "$n! = n \\times (n - 1) \\times \\cdots \\times 2 \\times 1$.\n",
    "\n",
    "There are functions to compute this in various modules, but let\\'s write\n",
    "our own version as an exercise.\n",
    "\n",
    "In particular, write a function `factorial` such that `factorial(n)`\n",
    "returns $n!$ for any positive integer $n$.\n",
    "\n",
    "### Exercise 2\n",
    "\n",
    "The [binomial random\n",
    "variable](https://en.wikipedia.org/wiki/Binomial_distribution)\n",
    "$Y \\sim Bin(n, p)$ represents the number of successes in $n$ binary\n",
    "trials, where each trial succeeds with probability $p$.\n",
    "\n",
    "Without any import besides `from numpy.random import uniform`, write a\n",
    "function `binomial_rv` such that `binomial_rv(n, p)` generates one draw\n",
    "of $Y$.\n",
    "\n",
    "Hint: If $U$ is uniform on $(0, 1)$ and $p \\in (0,1)$, then the\n",
    "expression `U < p` evaluates to `True` with probability $p$.\n",
    "\n",
    "### Exercise 3\n",
    "\n",
    "First, write a function that returns one realization of the following\n",
    "random device\n",
    "\n",
    "1.  Flip an unbiased coin 10 times.\n",
    "2.  If a head occurs `k` or more times consecutively within this\n",
    "    sequence at least once, pay one dollar.\n",
    "3.  If not, pay nothing.\n",
    "\n",
    "Second, write another function that does the same task except that the\n",
    "second rule of the above random device becomes\n",
    "\n",
    "-   If a head occurs `k` or more times within this sequence, pay one\n",
    "    dollar.\n",
    "\n",
    "Use no import besides `from numpy.random import uniform`.\n",
    "\n",
    "## Solutions\n",
    "\n",
    "### Exercise 1\n",
    "\n",
    "Here\\'s one solution."
   ]
  },
  {
   "cell_type": "code",
   "execution_count": null,
   "id": "3e99b32d",
   "metadata": {},
   "outputs": [],
   "source": [
    "def factorial(n):\n",
    "    k = 1\n",
    "    for i in range(n):\n",
    "        k = k * (i + 1)\n",
    "    return k\n",
    "\n",
    "factorial(4)"
   ]
  },
  {
   "cell_type": "markdown",
   "id": "df22fd10",
   "metadata": {},
   "source": [
    "### Exercise 2"
   ]
  },
  {
   "cell_type": "code",
   "execution_count": null,
   "id": "38819c80",
   "metadata": {},
   "outputs": [],
   "source": [
    "from numpy.random import uniform\n",
    "\n",
    "def binomial_rv(n, p):\n",
    "    count = 0\n",
    "    for i in range(n):\n",
    "        U = uniform()\n",
    "        if U < p:\n",
    "            count = count + 1    # Or count += 1\n",
    "    return count\n",
    "\n",
    "binomial_rv(10, 0.5)"
   ]
  },
  {
   "cell_type": "markdown",
   "id": "73d810ef",
   "metadata": {},
   "source": [
    "### Exercise 3\n",
    "\n",
    "Here\\'s a function for the first random device."
   ]
  },
  {
   "cell_type": "code",
   "execution_count": null,
   "id": "db96377a",
   "metadata": {},
   "outputs": [],
   "source": [
    "from numpy.random import uniform\n",
    "\n",
    "def draw(k):  # pays if k consecutive successes in a sequence\n",
    "\n",
    "    payoff = 0\n",
    "    count = 0\n",
    "\n",
    "    for i in range(10):\n",
    "        U = uniform()\n",
    "        count = count + 1 if U < 0.5 else 0\n",
    "        print(count)    # print counts for clarity\n",
    "        if count == k:\n",
    "            payoff = 1\n",
    "\n",
    "    return payoff\n",
    "\n",
    "draw(3)"
   ]
  },
  {
   "cell_type": "markdown",
   "id": "6cd0d266",
   "metadata": {},
   "source": [
    "Here\\'s another function for the second random device."
   ]
  },
  {
   "cell_type": "code",
   "execution_count": null,
   "id": "718cdcd6",
   "metadata": {},
   "outputs": [],
   "source": [
    "def draw_new(k):  # pays if k successes in a sequence\n",
    "\n",
    "    payoff = 0\n",
    "    count = 0\n",
    "\n",
    "    for i in range(10):\n",
    "        U = uniform()\n",
    "        count = count + ( 1 if U < 0.5 else 0 )\n",
    "        print(count)    \n",
    "        if count == k:\n",
    "            payoff = 1\n",
    "\n",
    "    return payoff\n",
    "\n",
    "draw_new(3)"
   ]
  }
 ],
 "metadata": {
  "jupytext": {
   "text_representation": {
    "extension": ".md",
    "format_name": "myst"
   }
  },
  "kernelspec": {
   "display_name": "Python 3",
   "language": "python",
   "name": "python3"
  },
  "source_map": [
   10,
   34,
   40,
   59,
   63,
   67,
   71,
   73,
   77,
   82,
   84,
   99,
   103,
   118,
   121,
   126,
   130,
   132,
   140,
   149,
   165,
   168,
   191,
   201,
   214,
   225,
   245,
   259,
   280,
   291,
   309,
   313,
   316,
   376,
   384,
   388,
   400,
   406,
   424,
   428
  ]
 },
 "nbformat": 4,
 "nbformat_minor": 5
}